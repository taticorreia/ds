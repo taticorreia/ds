{
 "cells": [
  {
   "cell_type": "code",
   "execution_count": 1,
   "metadata": {},
   "outputs": [],
   "source": [
    "import numpy as np\n",
    "import pandas as pd\n",
    "\n",
    "from pyspark.sql.functions import lit\n",
    "from pyspark.sql import SparkSession, SQLContext, Row\n",
    "\n",
    "from pyspark.sql.functions import col, when\n",
    "from pyspark.ml.linalg import Vectors, SparseVector\n",
    "from pyspark.ml.feature import Normalizer, VectorIndexer, IndexToString, StringIndexer\n",
    "\n",
    "from pyspark.ml import Pipeline\n",
    "from pyspark.ml.classification import RandomForestClassifier\n",
    "from pyspark.ml.evaluation import MulticlassClassificationEvaluator"
   ]
  },
  {
   "cell_type": "markdown",
   "metadata": {},
   "source": [
    "### Lendo Dados"
   ]
  },
  {
   "cell_type": "code",
   "execution_count": 10,
   "metadata": {},
   "outputs": [
    {
     "name": "stdout",
     "output_type": "stream",
     "text": [
      "+---+---+------+\n",
      "|age|cp |target|\n",
      "+---+---+------+\n",
      "|63 |3  |1     |\n",
      "|37 |2  |1     |\n",
      "|41 |1  |1     |\n",
      "|56 |1  |1     |\n",
      "|57 |0  |1     |\n",
      "+---+---+------+\n",
      "only showing top 5 rows\n",
      "\n"
     ]
    }
   ],
   "source": [
    "spark = SparkSession.builder.appName(\"dataset\").getOrCreate()\n",
    "dataset = spark.read.csv(\"heart.csv\", header=True) \\\n",
    "    .select(\"age\", \"cp\", \"target\")\n",
    "dataset.show(5, truncate=False)"
   ]
  },
  {
   "cell_type": "markdown",
   "metadata": {},
   "source": [
    "### Normalizando Dados"
   ]
  },
  {
   "cell_type": "code",
   "execution_count": 12,
   "metadata": {},
   "outputs": [
    {
     "name": "stdout",
     "output_type": "stream",
     "text": [
      "+-----+-----------------------------------------+\n",
      "|label|features                                 |\n",
      "+-----+-----------------------------------------+\n",
      "|1    |[0.9545454545454546,0.045454545454545456]|\n",
      "|1    |[0.9487179487179487,0.05128205128205128] |\n",
      "|1    |[0.9761904761904762,0.023809523809523808]|\n",
      "|1    |[0.9824561403508771,0.017543859649122806]|\n",
      "|1    |[1.0,0.0]                                |\n",
      "+-----+-----------------------------------------+\n",
      "only showing top 5 rows\n",
      "\n"
     ]
    }
   ],
   "source": [
    "data_vector = dataset.rdd.map(lambda row: Row(data=Vectors.dense(row[0], row[1]), label=row[2])).toDF()\n",
    "normalizer = Normalizer(inputCol=\"data\", outputCol=\"features\", p=1.0)\n",
    "features = normalizer.transform(data_vector).drop(\"data\")\n",
    "features.show(5, truncate=False)"
   ]
  },
  {
   "cell_type": "markdown",
   "metadata": {},
   "source": [
    "### Extraindo Valores Normalizados"
   ]
  },
  {
   "cell_type": "code",
   "execution_count": 13,
   "metadata": {},
   "outputs": [
    {
     "name": "stdout",
     "output_type": "stream",
     "text": [
      "+-----+------------------+--------------------+\n",
      "|label|age               |cp                  |\n",
      "+-----+------------------+--------------------+\n",
      "|1    |0.9545454545454546|0.045454545454545456|\n",
      "|1    |0.9487179487179487|0.05128205128205128 |\n",
      "|1    |0.9761904761904762|0.023809523809523808|\n",
      "|1    |0.9824561403508771|0.017543859649122806|\n",
      "|1    |1.0               |0.0                 |\n",
      "+-----+------------------+--------------------+\n",
      "only showing top 5 rows\n",
      "\n"
     ]
    }
   ],
   "source": [
    "def extract(row):\n",
    "    return (row.label, ) + tuple(row.features.toArray().tolist())\n",
    "\n",
    "data_frame = features.rdd.map(extract).toDF([\"label\", \"age\", \"cp\"])\n",
    "data_frame.show(5, truncate=False)"
   ]
  },
  {
   "cell_type": "markdown",
   "metadata": {},
   "source": [
    "### Formato LIBSVM"
   ]
  },
  {
   "cell_type": "code",
   "execution_count": 14,
   "metadata": {},
   "outputs": [
    {
     "name": "stdout",
     "output_type": "stream",
     "text": [
      "+---------------------------------------------------------+-----+\n",
      "|features                                                 |label|\n",
      "+---------------------------------------------------------+-----+\n",
      "|(3,[0,1,2],[0.9545454545454546,0.045454545454545456,1.0])|1    |\n",
      "|(3,[0,1,2],[0.9487179487179487,0.05128205128205128,1.0]) |1    |\n",
      "|(3,[0,1,2],[0.9761904761904762,0.023809523809523808,1.0])|1    |\n",
      "|(3,[0,1,2],[0.9824561403508771,0.017543859649122806,1.0])|1    |\n",
      "|(3,[0,1,2],[1.0,0.0,1.0])                                |1    |\n",
      "+---------------------------------------------------------+-----+\n",
      "only showing top 5 rows\n",
      "\n"
     ]
    }
   ],
   "source": [
    "def libsvm_converter(row):\n",
    "    return Row(label = row[\"label\"], features=SparseVector(3, [0, 1, 2], [row[\"age\"], row[\"cp\"], 1]))\n",
    "\n",
    "libsvm = data_frame.rdd.map(libsvm_converter)\n",
    "sqlContext = SQLContext(spark.sparkContext)\n",
    "data = sqlContext.createDataFrame(libsvm)\n",
    "data.show(5, truncate=False)"
   ]
  },
  {
   "cell_type": "markdown",
   "metadata": {},
   "source": [
    "### Dados de Treino / Teste"
   ]
  },
  {
   "cell_type": "code",
   "execution_count": 15,
   "metadata": {},
   "outputs": [],
   "source": [
    "labelIndexer = StringIndexer(inputCol=\"label\", outputCol=\"indexedLabel\").fit(data)\n",
    "featureIndexer = VectorIndexer(inputCol=\"features\", outputCol=\"indexedFeatures\").fit(data)\n",
    "\n",
    "(train, test) = data.randomSplit([0.7, 0.3], seed=10)"
   ]
  },
  {
   "cell_type": "markdown",
   "metadata": {},
   "source": [
    "### Treinando  o Modelo"
   ]
  },
  {
   "cell_type": "code",
   "execution_count": 16,
   "metadata": {},
   "outputs": [],
   "source": [
    "rf = RandomForestClassifier(labelCol=\"indexedLabel\", featuresCol=\"indexedFeatures\")\n",
    "labelConverter = IndexToString(inputCol=\"prediction\", outputCol=\"predictedLabel\", labels=labelIndexer.labels)\n",
    "pipeline = Pipeline(stages=[labelIndexer, featureIndexer, rf, labelConverter])\n",
    "\n",
    "model = pipeline.fit(train)"
   ]
  },
  {
   "cell_type": "markdown",
   "metadata": {},
   "source": [
    "### Classificando Dados de Teste"
   ]
  },
  {
   "cell_type": "code",
   "execution_count": 17,
   "metadata": {},
   "outputs": [
    {
     "name": "stdout",
     "output_type": "stream",
     "text": [
      "+-----+--------------+\n",
      "|label|predictedLabel|\n",
      "+-----+--------------+\n",
      "|0    |1             |\n",
      "|1    |1             |\n",
      "|1    |1             |\n",
      "|1    |1             |\n",
      "|1    |1             |\n",
      "+-----+--------------+\n",
      "only showing top 5 rows\n",
      "\n"
     ]
    }
   ],
   "source": [
    "predictions = model.transform(test)\n",
    "resumed_predictions = predictions.select(\"label\", \"predictedLabel\")\n",
    "resumed_predictions.show(5, truncate=False)"
   ]
  },
  {
   "cell_type": "markdown",
   "metadata": {},
   "source": [
    "### Desempenho"
   ]
  },
  {
   "cell_type": "code",
   "execution_count": 18,
   "metadata": {},
   "outputs": [
    {
     "name": "stdout",
     "output_type": "stream",
     "text": [
      "Accuracy = 0.7216494845360825\n"
     ]
    }
   ],
   "source": [
    "evaluator = MulticlassClassificationEvaluator(\n",
    "      labelCol=\"indexedLabel\" \\\n",
    "    , predictionCol=\"prediction\" \\\n",
    "    , metricName=\"accuracy\")\n",
    "\n",
    "print(\"Accuracy = \" + str(evaluator.evaluate(predictions)))"
   ]
  },
  {
   "cell_type": "code",
   "execution_count": null,
   "metadata": {},
   "outputs": [],
   "source": []
  }
 ],
 "metadata": {
  "kernelspec": {
   "display_name": "Python 3",
   "language": "python",
   "name": "python3"
  },
  "language_info": {
   "codemirror_mode": {
    "name": "ipython",
    "version": 3
   },
   "file_extension": ".py",
   "mimetype": "text/x-python",
   "name": "python",
   "nbconvert_exporter": "python",
   "pygments_lexer": "ipython3",
   "version": "3.7.1"
  }
 },
 "nbformat": 4,
 "nbformat_minor": 2
}
