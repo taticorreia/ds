{
 "cells": [
  {
   "cell_type": "markdown",
   "metadata": {},
   "source": [
    "# Estudo de Caso I\n",
    "\n",
    "Análise de crédito"
   ]
  },
  {
   "cell_type": "code",
   "execution_count": 39,
   "metadata": {},
   "outputs": [],
   "source": [
    "import pandas\n",
    "import warnings\n",
    "import matplotlib.pyplot as plt\n",
    "\n",
    "from scipy.stats import skew\n",
    "from sklearn.preprocessing import power_transform\n",
    "\n",
    "%matplotlib inline"
   ]
  },
  {
   "cell_type": "code",
   "execution_count": 48,
   "metadata": {},
   "outputs": [],
   "source": [
    "plt.rcParams['figure.figsize'] = (12, 7)\n",
    "warnings.filterwarnings('ignore')"
   ]
  },
  {
   "cell_type": "code",
   "execution_count": 49,
   "metadata": {},
   "outputs": [
    {
     "data": {
      "text/html": [
       "<div>\n",
       "<style scoped>\n",
       "    .dataframe tbody tr th:only-of-type {\n",
       "        vertical-align: middle;\n",
       "    }\n",
       "\n",
       "    .dataframe tbody tr th {\n",
       "        vertical-align: top;\n",
       "    }\n",
       "\n",
       "    .dataframe thead th {\n",
       "        text-align: right;\n",
       "    }\n",
       "</style>\n",
       "<table border=\"1\" class=\"dataframe\">\n",
       "  <thead>\n",
       "    <tr style=\"text-align: right;\">\n",
       "      <th></th>\n",
       "      <th>LIMIT_BAL</th>\n",
       "      <th>SEX</th>\n",
       "      <th>EDUCATION</th>\n",
       "      <th>MARRIAGE</th>\n",
       "      <th>AGE</th>\n",
       "      <th>PAY_0</th>\n",
       "      <th>PAY_2</th>\n",
       "      <th>PAY_3</th>\n",
       "      <th>PAY_4</th>\n",
       "      <th>PAY_5</th>\n",
       "      <th>...</th>\n",
       "      <th>BILL_AMT4</th>\n",
       "      <th>BILL_AMT5</th>\n",
       "      <th>BILL_AMT6</th>\n",
       "      <th>PAY_AMT1</th>\n",
       "      <th>PAY_AMT2</th>\n",
       "      <th>PAY_AMT3</th>\n",
       "      <th>PAY_AMT4</th>\n",
       "      <th>PAY_AMT5</th>\n",
       "      <th>PAY_AMT6</th>\n",
       "      <th>default payment next month</th>\n",
       "    </tr>\n",
       "  </thead>\n",
       "  <tbody>\n",
       "    <tr>\n",
       "      <th>0</th>\n",
       "      <td>50000.0</td>\n",
       "      <td>1</td>\n",
       "      <td>2</td>\n",
       "      <td>1</td>\n",
       "      <td>57</td>\n",
       "      <td>-1</td>\n",
       "      <td>0</td>\n",
       "      <td>-1</td>\n",
       "      <td>0</td>\n",
       "      <td>0</td>\n",
       "      <td>...</td>\n",
       "      <td>20940.0</td>\n",
       "      <td>19146.0</td>\n",
       "      <td>19131.0</td>\n",
       "      <td>2000.0</td>\n",
       "      <td>36681.0</td>\n",
       "      <td>10000.0</td>\n",
       "      <td>9000.0</td>\n",
       "      <td>689.0</td>\n",
       "      <td>679.0</td>\n",
       "      <td>0</td>\n",
       "    </tr>\n",
       "    <tr>\n",
       "      <th>1</th>\n",
       "      <td>320000.0</td>\n",
       "      <td>1</td>\n",
       "      <td>1</td>\n",
       "      <td>1</td>\n",
       "      <td>49</td>\n",
       "      <td>0</td>\n",
       "      <td>0</td>\n",
       "      <td>0</td>\n",
       "      <td>-1</td>\n",
       "      <td>-1</td>\n",
       "      <td>...</td>\n",
       "      <td>70074.0</td>\n",
       "      <td>5856.0</td>\n",
       "      <td>195599.0</td>\n",
       "      <td>10358.0</td>\n",
       "      <td>10000.0</td>\n",
       "      <td>75940.0</td>\n",
       "      <td>20000.0</td>\n",
       "      <td>195599.0</td>\n",
       "      <td>50000.0</td>\n",
       "      <td>0</td>\n",
       "    </tr>\n",
       "    <tr>\n",
       "      <th>2</th>\n",
       "      <td>500000.0</td>\n",
       "      <td>1</td>\n",
       "      <td>1</td>\n",
       "      <td>1</td>\n",
       "      <td>58</td>\n",
       "      <td>-2</td>\n",
       "      <td>-2</td>\n",
       "      <td>-2</td>\n",
       "      <td>-2</td>\n",
       "      <td>-2</td>\n",
       "      <td>...</td>\n",
       "      <td>3180.0</td>\n",
       "      <td>0.0</td>\n",
       "      <td>5293.0</td>\n",
       "      <td>5006.0</td>\n",
       "      <td>31178.0</td>\n",
       "      <td>3180.0</td>\n",
       "      <td>0.0</td>\n",
       "      <td>5293.0</td>\n",
       "      <td>768.0</td>\n",
       "      <td>0</td>\n",
       "    </tr>\n",
       "    <tr>\n",
       "      <th>3</th>\n",
       "      <td>280000.0</td>\n",
       "      <td>1</td>\n",
       "      <td>2</td>\n",
       "      <td>1</td>\n",
       "      <td>40</td>\n",
       "      <td>0</td>\n",
       "      <td>0</td>\n",
       "      <td>0</td>\n",
       "      <td>0</td>\n",
       "      <td>0</td>\n",
       "      <td>...</td>\n",
       "      <td>170410.0</td>\n",
       "      <td>173901.0</td>\n",
       "      <td>177413.0</td>\n",
       "      <td>8026.0</td>\n",
       "      <td>8060.0</td>\n",
       "      <td>6300.0</td>\n",
       "      <td>6400.0</td>\n",
       "      <td>6400.0</td>\n",
       "      <td>6737.0</td>\n",
       "      <td>0</td>\n",
       "    </tr>\n",
       "    <tr>\n",
       "      <th>4</th>\n",
       "      <td>70000.0</td>\n",
       "      <td>1</td>\n",
       "      <td>2</td>\n",
       "      <td>1</td>\n",
       "      <td>39</td>\n",
       "      <td>0</td>\n",
       "      <td>0</td>\n",
       "      <td>0</td>\n",
       "      <td>0</td>\n",
       "      <td>0</td>\n",
       "      <td>...</td>\n",
       "      <td>16518.0</td>\n",
       "      <td>14096.0</td>\n",
       "      <td>830.0</td>\n",
       "      <td>4025.0</td>\n",
       "      <td>2095.0</td>\n",
       "      <td>1000.0</td>\n",
       "      <td>2000.0</td>\n",
       "      <td>3000.0</td>\n",
       "      <td>0.0</td>\n",
       "      <td>0</td>\n",
       "    </tr>\n",
       "  </tbody>\n",
       "</table>\n",
       "<p>5 rows × 24 columns</p>\n",
       "</div>"
      ],
      "text/plain": [
       "   LIMIT_BAL  SEX  EDUCATION  MARRIAGE  AGE  PAY_0  PAY_2  PAY_3  PAY_4  \\\n",
       "0    50000.0    1          2         1   57     -1      0     -1      0   \n",
       "1   320000.0    1          1         1   49      0      0      0     -1   \n",
       "2   500000.0    1          1         1   58     -2     -2     -2     -2   \n",
       "3   280000.0    1          2         1   40      0      0      0      0   \n",
       "4    70000.0    1          2         1   39      0      0      0      0   \n",
       "\n",
       "   PAY_5  ...  BILL_AMT4  BILL_AMT5  BILL_AMT6  PAY_AMT1  PAY_AMT2  PAY_AMT3  \\\n",
       "0      0  ...    20940.0    19146.0    19131.0    2000.0   36681.0   10000.0   \n",
       "1     -1  ...    70074.0     5856.0   195599.0   10358.0   10000.0   75940.0   \n",
       "2     -2  ...     3180.0        0.0     5293.0    5006.0   31178.0    3180.0   \n",
       "3      0  ...   170410.0   173901.0   177413.0    8026.0    8060.0    6300.0   \n",
       "4      0  ...    16518.0    14096.0      830.0    4025.0    2095.0    1000.0   \n",
       "\n",
       "   PAY_AMT4  PAY_AMT5  PAY_AMT6  default payment next month  \n",
       "0    9000.0     689.0     679.0                           0  \n",
       "1   20000.0  195599.0   50000.0                           0  \n",
       "2       0.0    5293.0     768.0                           0  \n",
       "3    6400.0    6400.0    6737.0                           0  \n",
       "4    2000.0    3000.0       0.0                           0  \n",
       "\n",
       "[5 rows x 24 columns]"
      ]
     },
     "execution_count": 49,
     "metadata": {},
     "output_type": "execute_result"
    }
   ],
   "source": [
    "data = pandas.read_csv('../../datasets/database.csv')\n",
    "data.head()"
   ]
  },
  {
   "cell_type": "markdown",
   "metadata": {},
   "source": [
    "Dados muito enviesados."
   ]
  },
  {
   "cell_type": "code",
   "execution_count": 50,
   "metadata": {},
   "outputs": [
    {
     "data": {
      "text/plain": [
       "0.9927995563772035"
      ]
     },
     "execution_count": 50,
     "metadata": {},
     "output_type": "execute_result"
    }
   ],
   "source": [
    "skew(data.LIMIT_BAL.values)"
   ]
  },
  {
   "cell_type": "code",
   "execution_count": 51,
   "metadata": {
    "scrolled": true
   },
   "outputs": [
    {
     "data": {
      "text/plain": [
       "<matplotlib.axes._subplots.AxesSubplot at 0x7f10425c1518>"
      ]
     },
     "execution_count": 51,
     "metadata": {},
     "output_type": "execute_result"
    },
    {
     "data": {
      "image/png": "[encoded data removed]",
      "text/plain": [
       "<Figure size 864x504 with 1 Axes>"
      ]
     },
     "metadata": {
      "needs_background": "light"
     },
     "output_type": "display_data"
    }
   ],
   "source": [
    "data['LIMIT_BAL'].plot.hist(bins=25) # para ter a mesma visualização, coloquei o bins=25"
   ]
  },
  {
   "cell_type": "code",
   "execution_count": 52,
   "metadata": {},
   "outputs": [
    {
     "data": {
      "text/plain": [
       "array([[-0.95275358,  1.23292009,  0.3727866 , ..., -0.12318276,\n",
       "        -0.08418443, -0.53593271],\n",
       "       [ 1.14908942,  1.23292009, -1.22162237, ...,  3.3603208 ,\n",
       "         2.08021893, -0.53593271],\n",
       "       [ 1.828956  ,  1.23292009, -1.22162237, ...,  0.76815992,\n",
       "        -0.04045064, -0.53593271],\n",
       "       ...,\n",
       "       [ 0.16455002, -0.81108257,  1.54083806, ...,  0.4213202 ,\n",
       "         0.4418884 , -0.53593271],\n",
       "       [-0.39564884, -0.81108257,  1.54083806, ..., -0.19999512,\n",
       "         0.14850597, -0.53593271],\n",
       "       [-0.95275358, -0.81108257,  1.54083806, ..., -0.08807368,\n",
       "        -0.07344869, -0.53593271]])"
      ]
     },
     "execution_count": 52,
     "metadata": {},
     "output_type": "execute_result"
    }
   ],
   "source": [
    "data_array = data.as_matrix().tolist()\n",
    "balanced_data = power_transform(data_array, method='yeo-johnson') # box-cox não pq tem valores negativos\n",
    "balanced_data"
   ]
  },
  {
   "cell_type": "code",
   "execution_count": 53,
   "metadata": {},
   "outputs": [
    {
     "data": {
      "text/plain": [
       "-0.07522198649909853"
      ]
     },
     "execution_count": 53,
     "metadata": {},
     "output_type": "execute_result"
    }
   ],
   "source": [
    "skew(balanced_data[:,0])"
   ]
  },
  {
   "cell_type": "code",
   "execution_count": 55,
   "metadata": {},
   "outputs": [
    {
     "data": {
      "text/plain": [
       "(array([4.870e+02, 1.955e+03, 1.812e+03, 4.150e+03, 2.909e+03, 2.338e+03,\n",
       "        3.218e+03, 4.406e+03, 2.915e+03, 2.958e+03, 1.230e+03, 1.103e+03,\n",
       "        8.800e+01, 3.100e+01, 1.000e+00]),\n",
       " array([-2.0991459 , -1.75529006, -1.41143422, -1.06757838, -0.72372254,\n",
       "        -0.37986671, -0.03601087,  0.30784497,  0.65170081,  0.99555665,\n",
       "         1.33941249,  1.68326833,  2.02712417,  2.37098001,  2.71483585,\n",
       "         3.05869169]),\n",
       " <a list of 15 Patch objects>)"
      ]
     },
     "execution_count": 55,
     "metadata": {},
     "output_type": "execute_result"
    },
    {
     "data": {
      "image/png": "[encoded data removed]",
      "text/plain": [
       "<Figure size 864x504 with 1 Axes>"
      ]
     },
     "metadata": {
      "needs_background": "light"
     },
     "output_type": "display_data"
    }
   ],
   "source": [
    "plt.hist(balanced_data[:,0], bins=15) # histograma da primeira coluna (LIMIT_BAL)"
   ]
  },
  {
   "cell_type": "code",
   "execution_count": null,
   "metadata": {},
   "outputs": [],
   "source": []
  }
 ],
 "metadata": {
  "kernelspec": {
   "display_name": "Python 3",
   "language": "python",
   "name": "python3"
  },
  "language_info": {
   "codemirror_mode": {
    "name": "ipython",
    "version": 3
   },
   "file_extension": ".py",
   "mimetype": "text/x-python",
   "name": "python",
   "nbconvert_exporter": "python",
   "pygments_lexer": "ipython3",
   "version": "3.7.1"
  }
 },
 "nbformat": 4,
 "nbformat_minor": 2
}
