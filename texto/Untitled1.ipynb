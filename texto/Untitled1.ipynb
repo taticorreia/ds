{
 "cells": [
  {
   "cell_type": "code",
   "execution_count": 64,
   "metadata": {},
   "outputs": [],
   "source": [
    "import pandas\n",
    "from sklearn.feature_extraction.text import TfidfVectorizer\n",
    "from sklearn.model_selection import train_test_split\n",
    "from sklearn.linear_model import LogisticRegression\n",
    "from sklearn.metrics import accuracy_score"
   ]
  },
  {
   "cell_type": "code",
   "execution_count": 2,
   "metadata": {},
   "outputs": [],
   "source": [
    "dataset = pandas.read_csv('sentiment-analysis.csv')"
   ]
  },
  {
   "cell_type": "code",
   "execution_count": 3,
   "metadata": {},
   "outputs": [
    {
     "data": {
      "text/html": [
       "<div>\n",
       "<style scoped>\n",
       "    .dataframe tbody tr th:only-of-type {\n",
       "        vertical-align: middle;\n",
       "    }\n",
       "\n",
       "    .dataframe tbody tr th {\n",
       "        vertical-align: top;\n",
       "    }\n",
       "\n",
       "    .dataframe thead th {\n",
       "        text-align: right;\n",
       "    }\n",
       "</style>\n",
       "<table border=\"1\" class=\"dataframe\">\n",
       "  <thead>\n",
       "    <tr style=\"text-align: right;\">\n",
       "      <th></th>\n",
       "      <th>text</th>\n",
       "      <th>label</th>\n",
       "    </tr>\n",
       "  </thead>\n",
       "  <tbody>\n",
       "    <tr>\n",
       "      <th>0</th>\n",
       "      <td>So there is no way for me to plug it in here i...</td>\n",
       "      <td>0</td>\n",
       "    </tr>\n",
       "    <tr>\n",
       "      <th>1</th>\n",
       "      <td>Good case Excellent value</td>\n",
       "      <td>1</td>\n",
       "    </tr>\n",
       "    <tr>\n",
       "      <th>2</th>\n",
       "      <td>Great for the jawbone</td>\n",
       "      <td>1</td>\n",
       "    </tr>\n",
       "    <tr>\n",
       "      <th>3</th>\n",
       "      <td>Tied to charger for conversations lasting more...</td>\n",
       "      <td>0</td>\n",
       "    </tr>\n",
       "    <tr>\n",
       "      <th>4</th>\n",
       "      <td>The mic is great</td>\n",
       "      <td>1</td>\n",
       "    </tr>\n",
       "  </tbody>\n",
       "</table>\n",
       "</div>"
      ],
      "text/plain": [
       "                                                text  label\n",
       "0  So there is no way for me to plug it in here i...      0\n",
       "1                          Good case Excellent value      1\n",
       "2                              Great for the jawbone      1\n",
       "3  Tied to charger for conversations lasting more...      0\n",
       "4                                   The mic is great      1"
      ]
     },
     "execution_count": 3,
     "metadata": {},
     "output_type": "execute_result"
    }
   ],
   "source": [
    "dataset.head(5)"
   ]
  },
  {
   "cell_type": "code",
   "execution_count": 46,
   "metadata": {},
   "outputs": [],
   "source": [
    "sw = [\"to\",\"of\",\"it\",\"I\",\"the\",\"is\", \"up\", \"has\", \"for\", \"have\", \"yet\", \"I've\", \"a\", \"as\", \"this\"]\n",
    "vectorizer = TfidfVectorizer(stop_words = sw)"
   ]
  },
  {
   "cell_type": "code",
   "execution_count": 53,
   "metadata": {},
   "outputs": [],
   "source": [
    "X = vectorizer.fit_transform(dataset.text)"
   ]
  },
  {
   "cell_type": "code",
   "execution_count": 50,
   "metadata": {},
   "outputs": [
    {
     "name": "stdout",
     "output_type": "stream",
     "text": [
      "['10', '100', '11', '12', '13', '15', '18', '20', '2000', '2005', '2160', '24', '2mp', '325', '350', '375', '3o', '42', '45', '4s', '50', '5020', '510', '5320', '680', '700w', '744', '8125', '8525', '8530', 'abhor', 'ability', 'able', 'abound', 'about', 'above', 'abovepretty', 'absolutel', 'absolutely', 'ac', 'accept', 'acceptable', 'access', 'accessable', 'accessing', 'accessory', 'accessoryone', 'accidentally', 'accompanied', 'according', 'activate', 'activated', 'activesync', 'actually', 'ad', 'adapter', 'adapters', 'add', 'addition', 'additional', 'address', 'adhesive', 'adorable', 'advertised', 'advise', 'after', 'again', 'against', 'aggravating', 'ago', 'alarm', 'all', 'allot', 'allow', 'allowing', 'allows', 'almost', 'alone', 'along', 'alot', 'also', 'although', 'aluminum', 'always', 'am', 'amazed', 'amazing', 'amazon', 'amp', 'ample', 'an', 'and', 'angeles', 'angle', 'another', 'answer', 'ant', 'antena', 'anti', 'any', 'anyone', 'anything', 'anyway', 'anywhere', 'apart', 'apartment', 'apparently', 'appealing', 'appearance', 'appears', 'applifies', 'appointments', 'are', 'area', 'arguing', 'armband', 'around', 'arrival', 'arrived', 'asia', 'ask', 'aspect', 'assumed', 'at', 'atleast', 'att', 'attacked', 'attractive', 'audio', 'authentic', 'auto', 'available', 'average', 'avoid', 'avoiding', 'away', 'awesome', 'awful', 'awkward', 'awsome', 'back', 'background', 'backlight', 'bad', 'balance', 'bar', 'barely', 'bargain', 'bars', 'basement', 'basic', 'basically', 'batteries', 'battery', 'be', 'be3', 'beat', 'beats', 'beautiful', 'because', 'bed', 'been', 'beep', 'beeping', 'before', 'behing', 'being', 'believe', 'bells', 'below', 'belt', 'bend', 'best', 'better', 'between', 'beware', 'big', 'biggest', 'bills', 'bit', 'bitpim', 'black', 'blackberry', 'blacktop', 'bland', 'blew', 'blue', 'blueant', 'bluetoooth', 'bluetooth', 'bluetooths', 'bmw', 'book', 'booking', 'boost', 'boot', 'bose', 'both', 'bother', 'bottom', 'bottowm', 'bought', 'bougth', 'boy', 'brand', 'break', 'breakage', 'breaking', 'breaks', 'brilliant', 'broke', 'broken', 'brokeni', 'browser', 'browsing', 'bt', 'bt250v', 'bt50', 'bubbling', 'bucks', 'buds', 'build', 'built', 'bulky', 'bumpers', 'but', 'button', 'buttons', 'buy', 'buyer', 'buyers', 'buying', 'buyit', 'buzzing', 'by', 'ca', 'cable', 'cables', 'calendar', 'call', 'called', 'calls', 'came', 'camera', 'can', 'canal', 'cancellation', 'cancelling', 'cannot', 'cant', 'capability', 'capacity', 'car', 'card', 'care', 'careful', 'carried', 'carriers', 'carries', 'carry', 'case', 'cases', 'casing', 'cassette', 'cat', 'catching', 'caused', 'causing', 'cbr', 'cds', 'cell', 'cellphone', 'cellphones', 'cellular', 'cent', 'center', 'certain', 'certainly', 'changing', 'channel', 'charge', 'charged', 'charger', 'chargers', 'charges', 'charging', 'charm', 'cheap', 'cheaper', 'cheaply', 'cheapy', 'check', 'checked', 'child', 'china', 'chinese', 'choice', 'choices', 'christmas', 'cingulair', 'cingular', 'clarity', 'classy', 'clear', 'clearer', 'clearly', 'clever', 'clicks', 'clip', 'clipping', 'clips', 'clock', 'colleague', 'color', 'colored', 'colors', 'combination', 'come', 'comes', 'comfort', 'comfortable', 'comfortably', 'comfortible', 'coming', 'comments', 'commercials', 'communicate', 'communication', 'communications', 'commuter', 'company', 'comparably', 'compared', 'compete', 'competitors', 'complain', 'complained', 'complaint', 'complaints', 'completely', 'compliments', 'compromise', 'computer', 'concrete', 'conditions', 'confortable', 'confusing', 'connect', 'connected', 'connecting', 'connection', 'constantly', 'constructed', 'construction', 'consumer', 'contact', 'contacted', 'contacting', 'contacts', 'continue', 'continues', 'contract', 'control', 'controls', 'contstruct', 'convenient', 'conversation', 'conversations', 'converter', 'cool', 'copier', 'copy', 'corded', 'correctly', 'cost', 'costs', 'could', 'couldn', 'couldnt', 'counter', 'counterfeit', 'couple', 'coupon', 'course', 'cover', 'coverage', 'covered', 'crack', 'crackedi', 'cradle', 'cradles', 'crap', 'crappy', 'crashed', 'crawl', 'creaks', 'crisp', 'cumbersome', 'current', 'currently', 'curve', 'customer', 'cut', 'cute', 'cutouts', 'cuts', 'd807', 'd807wrongly', 'damage', 'darn', 'data', 'date', 'day', 'days', 'dead', 'deaf', 'deal', 'decade', 'decent', 'decision', 'defeats', 'defect', 'defective', 'deffinitely', 'definitely', 'definitly', 'delay', 'delivery', 'describe', 'described', 'description', 'design', 'designed', 'designs', 'despite', 'destination', 'destroying', 'detachable', 'detailed', 'development', 'device', 'devices', 'dialing', 'did', 'didn', 'died', 'dieing', 'different', 'difficult', 'directed', 'directions', 'directly', 'dirty', 'disapoinment', 'disapointing', 'disappoint', 'disappointed', 'disappointing', 'disappointment', 'discarded', 'discomfort', 'disconnected', 'discount', 'disgusting', 'display', 'displeased', 'disposable', 'dissapointed', 'dissapointing', 'distorted', 'distracting', 'dit', 'division', 'dna', 'do', 'docking', 'does', 'doesn', 'doing', 'dollar', 'don', 'done', 'dont', 'double', 'down', 'download', 'downloading', 'dozen', 'dozens', 'drain', 'drained', 'drains', 'drawback', 'driving', 'drivng', 'droid', 'drop', 'dropped', 'dropping', 'drops', 'dual', 'due', 'durable', 'during', 'dustpan', 'dying', 'e2', 'e715', 'each', 'ear', 'earbud', 'earbuds', 'earbugs', 'eargels', 'earlier', 'earpad', 'earphone', 'earphones', 'earpiece', 'earpieces', 'ears', 'earset', 'ease', 'easier', 'easily', 'easy', 'echo', 'edge', 'effect', 'effective', 'effects', 'effort', 'either', 'electronics', 'elegant', 'else', 'elsewhere', 'embarassing', 'embarrassing', 'embedded', 'encourage', 'end', 'ended', 'ends', 'engineered', 'enjoy', 'enough', 'enter', 'entertainment', 'entire', 'env', 'equipment', 'era', 'ergonomic', 'ericson', 'ericsson', 'especially', 'essentially', 'etc', 'europe', 'even', 'eventually', 'ever', 'every', 'everyday', 'everyone', 'everything', 'everywhere', 'exactly', 'exceeds', 'excelent', 'excellent', 'excels', 'except', 'exceptional', 'excessive', 'exchange', 'exchanged', 'excited', 'exclaim', 'excrutiatingly', 'exercise', 'existing', 'expect', 'expectations', 'expected', 'expensive', 'experience', 'experienced', 'explain', 'extended', 'exterior', 'external', 'extra', 'extremely', 'eye', 'fabulous', 'face', 'faceplates', 'fact', 'factor', 'failed', 'fails', 'fairly', 'fall', 'falling', 'falls', 'family', 'fantastic', 'far', 'fast', 'faster', 'father', 'favorite', 'feature', 'features', 'fee', 'feel', 'feels', 'feet', 'felt', 'few', 'fi', 'figure', 'file', 'finally', 'find', 'finds', 'fine', 'fingers', 'finished', 'fire', 'first', 'fit', 'fits', 'five', 'fixes', 'flash', 'flaw', 'flawed', 'flawless', 'flawlessly', 'flaws', 'flimsy', 'flip', 'flipphones', 'fliptop', 'floor', 'floppy', 'flops', 'flush', 'fm', 'followed', 'fond', 'fooled', 'forced', 'forever', 'forgeries', 'forget', 'forgot', 'form', 'found', 'four', 'fourth', 'fraction', 'free', 'freedom', 'freeway', 'freezes', 'frequently4', 'frequentyly', 'friendly', 'friends', 'frog', 'from', 'front', 'frustration', 'fry', 'ft', 'fulfills', 'full', 'fully', 'fun', 'function', 'functional', 'functionality', 'functions', 'funny', 'gadget', 'gadgets', 'games', 'garbage', 'garbled', 'gave', 'geeky', 'gels', 'generally', 'gentle', 'genuine', 'get', 'gets', 'getting', 'gimmick', 'girl', 'give', 'given', 'giving', 'glad', 'glare', 'glasses', 'glove', 'glued', 'go', 'goes', 'goesthe', 'going', 'gonna', 'good', 'good4', 'good7', 'gosh', 'got', 'gotten', 'graphics', 'great', 'greater', 'greatno', 'grey', 'grip', 'grtting', 'guess', 'gx2', 'h500', 'had', 'hair', 'hand', 'handheld', 'hands', 'handset', 'handsfree', 'handy', 'happened', 'happening', 'happens', 'happier', 'happy', 'hard', 'hardly', 'hat', 'hate', 'hated', 'haul', 'haven', 'having', 'he', 'headbands', 'headphones', 'headset', 'headsets', 'hear', 'hearing', 'heavyit', 'help', 'helpful', 'here', 'hey', 'high', 'highest', 'highly', 'hinge', 'hit', 'hitch', 'hold', 'holder', 'holding', 'holds', 'holster', 'home', 'hook', 'hoped', 'hoping', 'horrible', 'hot', 'hour', 'hours', 'hoursthe', 'house', 'how', 'however', 'hs850', 'huge', 'humans', 'humming', 'hundred', 'hurt', 'hybrid', 'hype', 'iam', 'idea', 'ideal', 'ie', 'if', 'igo', 'ill', 'im', 'imac', 'images', 'imagine', 'immediately', 'important', 'impossible', 'impressed', 'impressive', 'improper', 'improve', 'improvement', 'in', 'inches', 'included', 'incoming', 'inconspicuous', 'increase', 'incrediable', 'incredible', 'incredibly', 'indoors', 'industrial', 'inexcusable', 'inexpensive', 'infatuated', 'inform', 'infra', 'infuriating', 'insert', 'inside', 'install', 'installed', 'instance', 'instead', 'instruction', 'instructions', 'integrated', 'intended', 'interested', 'interface', 'intermittently', 'internet', 'into', 'invented', 'investment', 'iphone', 'ipod', 'ipods', 'ir', 'irda', 'iriver', 'isn', 'issues', 'item', 'items', 'itmy', 'its', 'jabra', 'jabra350', 'jack', 'jawbone', 'jerks', 'jiggle', 'job', 'joke', 'joy', 'juicehighy', 'junk', 'just', 'jx', 'keen', 'keep', 'keeping', 'keeps', 'kept', 'key', 'keyboard', 'keypad', 'keypads', 'keys', 'killer', 'kind', 'kindle', 'kitchen', 'kits', 'knock', 'know', 'knows', 'krussel', 'l7c', 'lacking', 'land', 'lap', 'laptop', 'large', 'last', 'lasted', 'lasting', 'lasts', 'latch', 'lately', 'later', 'latest', 'laughing', 'leaf', 'leaks', 'learned', 'least', 'leather', 'left', 'lense', 'leopard', 'less', 'lesson', 'let', 'letting', 'lg', 'life', 'light', 'lightly', 'lights', 'lightweight', 'like', 'liked', 'likes', 'line', 'lineanother', 'linked', 'linking', 'linksys', 'listener', 'listening', 'lit', 'literally', 'little', 'living', 'll', 'loads', 'lock', 'locked', 'locks', 'logitech', 'long', 'longer', 'look', 'looking', 'looks', 'loop', 'loops', 'loose', 'looses', 'los', 'lose', 'lost', 'lot', 'lots', 'loud', 'louder', 'loudest', 'loudglad', 'loudspeaker', 'lousy', 'love', 'loved', 'loves', 'low', 'luck', 'machine', 'made', 'magical', 'magnetic', 'mail', 'mainly', 'maintain', 'maintains', 'majority', 'make', 'makes', 'making', 'managed', 'managementoh', 'manual', 'manufacturer', 'many', 'mark', 'market', 'match', 'material', 'max', 'may', 'me', 'means', 'mechanism', 'media', 'mediocre', 'mega', 'megapixels', 'memory', 'mention', 'mentioned', 'menus', 'mere', 'mess', 'message', 'messages', 'messaging', 'messes', 'metal', 'methe', 'metro', 'mic', 'microphone', 'microsoft', 'might', 'mind', 'mine', 'mini', 'mins', 'minute', 'minutes', 'minutesmajor', 'misleading', 'missed', 'mistake', 'mobile', 'mode', 'model', 'modest', 'money', 'monkeys', 'month', 'months', 'more', 'morning', 'most', 'mostly', 'mother', 'moto', 'motor', 'motorola', 'motorolas', 'moving', 'mp3', 'mp3s', 'much', 'muddy', 'muffled', 'multiple', 'music', 'must', 'mute', 'my', 'nano', 'navigate', 'near', 'nearly', 'neat', 'need', 'needed', 'needless', 'needshandsfree', 'negatively', 'neither', 'network', 'never', 'new', 'next', 'ngage', 'nice', 'nicely', 'nicer', 'night', 'nightmare', 'no', 'noise', 'noises', 'nokia', 'none', 'normal', 'normally', 'not', 'note', 'noted', 'nothing', 'notice', 'noticed', 'now', 'number', 'numbers', 'numerous', 'nyc', 'obviously', 'occupied', 'odd', 'oem', 'off', 'offering', 'offers', 'official', 'oh', 'ok', 'old', 'on', 'once', 'one', 'ones', 'oni', 'online', 'only', 'onlyi', 'oozes', 'open', 'opens', 'operate', 'operates', 'optimal', 'option', 'options', 'or', 'order', 'ordered', 'ordering', 'orders', 'organizational', 'original', 'originally', 'os', 'other', 'others', 'otherwise', 'our', 'out', 'outgoing', 'outlet', 'outperform', 'outside', 'over', 'overall', 'overly', 'overnight', 'overnite', 'override', 'own', 'owned', 'owneryou', 'owning', 'pack', 'package', 'packaged', 'pad', 'pads', 'pain', 'painful', 'pair', 'paired', 'pairing', 'palm', 'palms', 'palmtop', 'pants', 'part', 'particular', 'party', 'passed', 'patient', 'pause', 'pay', 'pc', 'pcs', 'pda', 'peachy', 'peeling', 'penny', 'pens', 'people', 'perfect', 'perfectly', 'performance', 'performed', 'performing', 'perhaps', 'periodically', 'periods', 'person', 'petroleum', 'phone', 'phonebattery', 'phonemy', 'phones', 'phonethe', 'photo', 'pics', 'picture', 'pictures', 'piece', 'pitiful', 'pixel', 'place', 'placed', 'places', 'plan', 'planning', 'plans', 'plantronics', 'plantronincs', 'plastic', 'play', 'player', 'players', 'plays', 'pleasantly', 'please', 'pleased', 'pleather', 'plenty', 'plug', 'plugged', 'plugs', 'plus', 'pocket', 'pockets', 'point', 'poor', 'poorly', 'port', 'portable', 'portraits', 'possesed', 'possibility', 'posted', 'potentially', 'power', 'practical', 'practically', 'practice', 'preferably', 'premium', 'prettier', 'pretty', 'prevents', 'previous', 'price', 'priced', 'pricing', 'prime', 'print', 'probably', 'problem', 'problems', 'problemvery', 'procedure', 'procedures', 'produce', 'product', 'products', 'program', 'promised', 'prompt', 'promptly', 'properly', 'pros', 'protected', 'protection', 'protective', 'protector', 'protects', 'provide', 'provided', 'provides', 'ps3', 'psyched', 'puff', 'pull', 'purcashed', 'purchase', 'purchased', 'purchases', 'purchasing', 'purpose', 'push', 'pushed', 'put', 'quality', 'quick', 'quickly', 'quiet', 'quit', 'quite', 'qwerty', 'r450', 'randomly', 'range', 'rare', 'rate', 'rated', 'rather', 'rating', 'razor', 'razr', 're', 'reach', 'reaching', 'read', 'reading', 'ready', 'real', 'realize', 'really', 'reason', 'reasonable', 'reasonably', 'rebootsoverall', 'reccomendation', 'reccommend', 'receipt', 'receive', 'received', 'receiving', 'recently', 'reception', 'receptiona', 'recessed', 'recharge', 'recieve', 'recognition', 'recognizes', 'recommend', 'recommended', 'red', 'refund', 'refurb', 'refuse', 'refused', 'regarding', 'regret', 'regretted', 'relative', 'relatively', 'reliability', 'remorse', 'removing', 'renders', 'reoccurebottom', 'replace', 'replaced', 'replaceeasy', 'replacement', 'replacementr', 'requirements', 'research', 'resistant', 'resolution', 'respect', 'rest', 'restart', 'restocking', 'restored', 'rests', 'results', 'return', 'returned', 'returning', 'reverse', 'reversible', 'review', 'reviews', 'ride', 'right', 'riingtones', 'ring', 'ringer', 'ringing', 'ringtones', 'rip', 'ripped', 'risk', 'roam', 'rocketed', 'rocks', 'roles', 'room', 'rotating', 'row', 'rubber', 'run', 'runs', 's11', 's710a', 'saggy', 'said', 'same', 'samsung', 'samsungcrap', 'sanyo', 'satisfied', 'satisifed', 'save', 'saved', 'say', 'saying', 'says', 'scary', 'sch', 'scratch', 'scratched', 'screen', 'screens', 'screenthis', 'seamlessly', 'searched', 'seat', 'seconds', 'secure', 'securely', 'securly', 'see', 'seeen', 'seem', 'seemed', 'seems', 'seen', 'self', 'seller', 'send', 'sending', 'sensitive', 'sensor', 'sent', 'seperated', 'series', 'seriously', 'service', 'set', 'setting', 'setup', 'several', 'severe', 'sex', 'shape', 'share', 'sharp', 'she', 'shield', 'shifting', 'shine', 'shiny', 'shipment', 'shipped', 'shipping', 'shooters', 'short', 'shots', 'should', 'shouldn', 'shouldve', 'shouting', 'show', 'shows', 'side', 'sides', 'sight', 'signal', 'signals', 'significantly', 'signs', 'sim', 'simple', 'simpler', 'simply', 'since', 'sins', 'sister', 'sitting', 'situations', 'size', 'sizes', 'sketchy', 'skip', 'skype', 'sleek', 'slid', 'slide', 'slider', 'sliding', 'slim', 'slipping', 'slow', 'slowly', 'small', 'smallest', 'smartphone', 'smell', 'smoke', 'smoking', 'smoother', 'smoothly', 'smudged', 'snap', 'snug', 'so', 'soft', 'software', 'sold', 'solid', 'some', 'somehow', 'someone', 'something', 'sometimes', 'somewhat', 'somewhere', 'son', 'songs', 'sony', 'soon', 'sooner', 'sorry', 'sos', 'sound', 'sounded', 'sounds', 'source', 'sources', 'soyo', 'span', 'speaker', 'speakerphone', 'specially', 'specs', 'speed', 'spinn', 'spring', 'sprint', 'stand', 'standard', 'star', 'stari', 'stars', 'startac', 'started', 'starter', 'starts', 'state', 'stated', 'static', 'station', 'stay', 'stays', 'steep', 'steer', 'stereo', 'still', 'stop', 'stopped', 'stops', 'storage', 'store', 'strange', 'strap', 'stream', 'strength', 'stress', 'strip', 'strong', 'stuck', 'study', 'stuff', 'stupid', 'sturdiness', 'sturdy', 'styles', 'styling', 'stylish', 'submerged', 'such', 'sucked', 'sucks', 'sudden', 'suddenly', 'sunglasses', 'super', 'superb', 'superfast', 'supertooth', 'support', 'supposedly', 'suprised', 'sure', 'surefire', 'surprised', 'survived', 'sweetest', 'switch', 'swivel', 'sync', 'synchronization', 'take', 'takes', 'talk', 'talking', 'tape', 'tech', 'technology', 'telephone', 'tell', 'terrible', 'texas', 'text', 'than', 'thank', 'thanks', 'that', 'thats', 'their', 'them', 'then', 'theory', 'there', 'thereplacement', 'these', 'they', 'thin', 'thing', 'things', 'think', 'third', 'thorn', 'those', 'though', 'thought', 'three', 'threw', 'through', 'thru', 'thumbs', 'tick', 'ticking', 'tied', 'tight', 'time', 'timeframe', 'timely', 'times', 'tinny', 'tiny', 'tips', 'tmobile', 'toactivate', 'toast', 'today', 'together', 'toilet', 'told', 'toneoverall', 'tones', 'too', 'took', 'tool', 'tools', 'tooth', 'top', 'total', 'totally', 'touch', 'touches', 'tracfone', 'tracfonewebsite', 'tracking', 'transceiver', 'transfer', 'transformed', 'transmission', 'transmit', 'transmitters', 'trash', 'travled', 'tremendous', 'treo', 'tricky', 'tried', 'tries', 'trouble', 'truly', 'trunk', 'trust', 'try', 'trying', 'trythe', 'tungsten', 'turn', 'turned', 'turns', 'tv', 'two', 'type', 'ugly', 'unacceptable', 'unacceptableunless', 'unacceptible', 'unbearable', 'uncomfortable', 'under', 'understand', 'understanding', 'unfortunately', 'unhappy', 'unintelligible', 'unit', 'units', 'unknown', 'unless', 'unlike', 'unreliable', 'unsatisfactory', 'until', 'unusable', 'upbeat', 'update', 'upgrade', 'upload', 'upstairs', 'us', 'usable', 'usage', 'usb', 'use', 'used', 'useful', 'usefulness', 'useless', 'user', 'using', 'usually', 'utter', 'utterly', 'v115g', 'v265', 'v325i', 'v3c', 'v3i', 'value', 've', 'vehicle', 'verizon', 'very', 'via', 'video', 'videos', 'virgin', 'visor', 'voice', 'voltage', 'volume', 'vx', 'vx9900', 'w810i', 'waaay', 'waiting', 'wake', 'walked', 'walkman', 'wall', 'wallet', 'want', 'wanted', 'warning', 'warranty', 'was', 'wasn', 'waste', 'wasted', 'wasting', 'waterproof', 'way', 'we', 'weak', 'wear', 'wearing', 'web', 'website', 'websites', 'week', 'weeks', 'weight', 'weird', 'well', 'wellwell', 'went', 'were', 'what', 'whatever', 'whatsoever', 'when', 'where', 'whether', 'which', 'while', 'whine', 'whistles', 'white', 'who', 'whoa', 'whole', 'whose', 'wi', 'wife', 'wild', 'will', 'wind', 'window', 'windows', 'winner', 'wiping', 'wire', 'wired', 'wirefly', 'wireless', 'wise', 'wish', 'wit', 'with', 'within', 'without', 'wobbly', 'won', 'wonder', 'wonderfully', 'wont', 'wood', 'wooden', 'word', 'work', 'worked', 'working', 'works', 'world', 'worn', 'worst', 'worth', 'worthless', 'worthwhile', 'would', 'wouldn', 'wow', 'wrong', 'wrongfirst', 'year', 'years', 'yearsgreat', 'yell', 'yes', 'you', 'your', 'z500a', 'zero']\n"
     ]
    }
   ],
   "source": [
    "print(vectorizer.get_feature_names())"
   ]
  },
  {
   "cell_type": "code",
   "execution_count": 56,
   "metadata": {},
   "outputs": [
    {
     "name": "stdout",
     "output_type": "stream",
     "text": [
      "frozenset({'I', 'has', 'is', 'for', 'it', 'up', 'as', 'of', 'a', 'have', 'to', 'the', 'this', \"I've\", 'yet'})\n"
     ]
    }
   ],
   "source": [
    "print(vectorizer.get_stop_words())"
   ]
  },
  {
   "cell_type": "code",
   "execution_count": 57,
   "metadata": {},
   "outputs": [],
   "source": [
    "X_train, X_test, y_train, y_test = train_test_split(X, dataset.label, test_size=0.2, random_state=42)"
   ]
  },
  {
   "cell_type": "code",
   "execution_count": 60,
   "metadata": {},
   "outputs": [
    {
     "data": {
      "text/plain": [
       "LogisticRegression(C=1.0, class_weight='balanced', dual=False,\n",
       "          fit_intercept=True, intercept_scaling=1, max_iter=100,\n",
       "          multi_class='warn', n_jobs=None, penalty='l2', random_state=42,\n",
       "          solver='lbfgs', tol=0.0001, verbose=0, warm_start=False)"
      ]
     },
     "execution_count": 60,
     "metadata": {},
     "output_type": "execute_result"
    }
   ],
   "source": [
    "classifier = LogisticRegression(random_state=42, solver='lbfgs', class_weight='balanced')\n",
    "classifier"
   ]
  },
  {
   "cell_type": "code",
   "execution_count": 62,
   "metadata": {},
   "outputs": [
    {
     "data": {
      "text/plain": [
       "array([1, 1, 1, 0, 1, 1, 0, 1, 0, 1, 1, 0, 1, 0, 1, 0, 1, 0, 0, 1, 1, 1,\n",
       "       1, 0, 0, 0, 0, 0, 1, 1, 1, 0, 0, 1, 0, 0, 0, 0, 0, 0, 0, 0, 0, 1,\n",
       "       0, 1, 1, 0, 0, 0, 1, 1, 0, 0, 0, 1, 0, 1, 0, 1, 1, 1, 0, 0, 0, 1,\n",
       "       1, 1, 0, 0, 1, 0, 0, 0, 1, 1, 0, 0, 0, 1, 0, 0, 1, 1, 0, 0, 0, 0,\n",
       "       0, 0, 0, 1, 0, 0, 1, 0, 0, 1, 0, 0, 1, 1, 0, 1, 0, 0, 0, 0, 0, 0,\n",
       "       0, 0, 1, 1, 1, 0, 0, 0, 1, 1, 1, 1, 1, 1, 1, 0, 0, 1, 1, 1, 1, 0,\n",
       "       1, 0, 1, 1, 1, 1, 1, 1, 1, 1, 0, 1, 0, 1, 0, 1, 1, 0, 0, 1, 0, 0,\n",
       "       1, 0, 0, 0, 0, 0, 0, 1, 1, 0, 1, 1, 0, 1, 0, 1, 0, 1, 1, 0, 0, 0,\n",
       "       0, 1, 1, 0, 0, 0, 0, 0, 0, 1, 1, 1, 0, 1, 1, 1, 0, 0, 1, 0, 1, 1,\n",
       "       1, 1])"
      ]
     },
     "execution_count": 62,
     "metadata": {},
     "output_type": "execute_result"
    }
   ],
   "source": [
    "model = classifier.fit(X_train, y_train)\n",
    "y_pred = model.predict(X_test)\n",
    "y_pred"
   ]
  },
  {
   "cell_type": "code",
   "execution_count": 65,
   "metadata": {},
   "outputs": [
    {
     "data": {
      "text/plain": [
       "0.815"
      ]
     },
     "execution_count": 65,
     "metadata": {},
     "output_type": "execute_result"
    }
   ],
   "source": [
    "accuracy_score(y_test, y_pred)"
   ]
  },
  {
   "cell_type": "code",
   "execution_count": null,
   "metadata": {},
   "outputs": [],
   "source": []
  }
 ],
 "metadata": {
  "kernelspec": {
   "display_name": "Python 3",
   "language": "python",
   "name": "python3"
  },
  "language_info": {
   "codemirror_mode": {
    "name": "ipython",
    "version": 3
   },
   "file_extension": ".py",
   "mimetype": "text/x-python",
   "name": "python",
   "nbconvert_exporter": "python",
   "pygments_lexer": "ipython3",
   "version": "3.7.1"
  }
 },
 "nbformat": 4,
 "nbformat_minor": 2
}
