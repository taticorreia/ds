{
 "cells": [
  {
   "cell_type": "code",
   "execution_count": 18,
   "metadata": {},
   "outputs": [],
   "source": [
    "import pandas\n",
    "from sklearn.feature_extraction.text import TfidfVectorizer\n",
    "from sklearn.preprocessing import LabelEncoder\n",
    "\n",
    "from sklearn import preprocessing\n",
    "import numpy as np\n",
    "from sklearn.metrics import accuracy_score\n",
    "from sklearn.metrics import classification_report\n",
    "from sklearn.linear_model import LogisticRegression\n",
    "from sklearn.model_selection import train_test_split\n",
    "from sklearn.feature_extraction.text import TfidfVectorizer\n"
   ]
  },
  {
   "cell_type": "code",
   "execution_count": 2,
   "metadata": {},
   "outputs": [],
   "source": [
    "pandas.set_option('display.max_colwidth', -1)"
   ]
  },
  {
   "cell_type": "code",
   "execution_count": 3,
   "metadata": {},
   "outputs": [
    {
     "data": {
      "text/html": [
       "<div>\n",
       "<style scoped>\n",
       "    .dataframe tbody tr th:only-of-type {\n",
       "        vertical-align: middle;\n",
       "    }\n",
       "\n",
       "    .dataframe tbody tr th {\n",
       "        vertical-align: top;\n",
       "    }\n",
       "\n",
       "    .dataframe thead th {\n",
       "        text-align: right;\n",
       "    }\n",
       "</style>\n",
       "<table border=\"1\" class=\"dataframe\">\n",
       "  <thead>\n",
       "    <tr style=\"text-align: right;\">\n",
       "      <th></th>\n",
       "      <th>Author</th>\n",
       "      <th>Date</th>\n",
       "      <th>Review</th>\n",
       "      <th>Rating</th>\n",
       "      <th>Likes</th>\n",
       "      <th>Dislikes</th>\n",
       "      <th>Platform</th>\n",
       "      <th>Device</th>\n",
       "      <th>Size</th>\n",
       "      <th>Cluster</th>\n",
       "      <th>Category</th>\n",
       "    </tr>\n",
       "  </thead>\n",
       "  <tbody>\n",
       "    <tr>\n",
       "      <th>0</th>\n",
       "      <td>Fábio F. de Oliveira</td>\n",
       "      <td>2019-06-20 18:06:37</td>\n",
       "      <td>nao funciona</td>\n",
       "      <td>2</td>\n",
       "      <td>NaN</td>\n",
       "      <td>NaN</td>\n",
       "      <td>Android</td>\n",
       "      <td>Galaxy J4+ (j4primelte)</td>\n",
       "      <td>12</td>\n",
       "      <td>1</td>\n",
       "      <td>Instabilidade</td>\n",
       "    </tr>\n",
       "    <tr>\n",
       "      <th>1</th>\n",
       "      <td>Davidson P Sena</td>\n",
       "      <td>2019-06-20 17:53:10</td>\n",
       "      <td>editei a nota pois voces corrigiram o erro que tinha no aplicativo  agora a unica coisa que esta incomodando ainda e a lentidao  no aguardo e obrigado</td>\n",
       "      <td>4</td>\n",
       "      <td>9.0</td>\n",
       "      <td>NaN</td>\n",
       "      <td>Android</td>\n",
       "      <td>Galaxy Note9 (crownqltechn)</td>\n",
       "      <td>150</td>\n",
       "      <td>1</td>\n",
       "      <td>Elogio</td>\n",
       "    </tr>\n",
       "    <tr>\n",
       "      <th>2</th>\n",
       "      <td>Jackeline Mos</td>\n",
       "      <td>2019-06-20 17:47:59</td>\n",
       "      <td>trava muito  nao gostei</td>\n",
       "      <td>1</td>\n",
       "      <td>NaN</td>\n",
       "      <td>NaN</td>\n",
       "      <td>Android</td>\n",
       "      <td>LG K10 (2017) (mlv5)</td>\n",
       "      <td>23</td>\n",
       "      <td>0</td>\n",
       "      <td>Instabilidade</td>\n",
       "    </tr>\n",
       "    <tr>\n",
       "      <th>3</th>\n",
       "      <td>Amanda Caroline</td>\n",
       "      <td>2019-06-20 17:46:49</td>\n",
       "      <td>nao consigo entrar  saiu da tela de faturas do nada e quando voltei pedia meu cpf pra ver se tinha cadastro  demora a carregar e quando carrega diz que nao conseguiram acessar minhas informacoes</td>\n",
       "      <td>1</td>\n",
       "      <td>NaN</td>\n",
       "      <td>NaN</td>\n",
       "      <td>Android</td>\n",
       "      <td>LG Q6 (mh)</td>\n",
       "      <td>194</td>\n",
       "      <td>2</td>\n",
       "      <td>Instabilidade</td>\n",
       "    </tr>\n",
       "    <tr>\n",
       "      <th>4</th>\n",
       "      <td>VIVEREMSALVADOR VIVER</td>\n",
       "      <td>2019-06-20 17:35:28</td>\n",
       "      <td>otimo</td>\n",
       "      <td>5</td>\n",
       "      <td>NaN</td>\n",
       "      <td>NaN</td>\n",
       "      <td>Android</td>\n",
       "      <td>LG Q6 (mh)</td>\n",
       "      <td>5</td>\n",
       "      <td>1</td>\n",
       "      <td>Elogio</td>\n",
       "    </tr>\n",
       "  </tbody>\n",
       "</table>\n",
       "</div>"
      ],
      "text/plain": [
       "                  Author                 Date  \\\n",
       "0  Fábio F. de Oliveira   2019-06-20 18:06:37   \n",
       "1  Davidson P Sena        2019-06-20 17:53:10   \n",
       "2  Jackeline Mos          2019-06-20 17:47:59   \n",
       "3  Amanda Caroline        2019-06-20 17:46:49   \n",
       "4  VIVEREMSALVADOR VIVER  2019-06-20 17:35:28   \n",
       "\n",
       "                                                                                                                                                                                               Review  \\\n",
       "0  nao funciona                                                                                                                                                                                         \n",
       "1  editei a nota pois voces corrigiram o erro que tinha no aplicativo  agora a unica coisa que esta incomodando ainda e a lentidao  no aguardo e obrigado                                               \n",
       "2  trava muito  nao gostei                                                                                                                                                                              \n",
       "3  nao consigo entrar  saiu da tela de faturas do nada e quando voltei pedia meu cpf pra ver se tinha cadastro  demora a carregar e quando carrega diz que nao conseguiram acessar minhas informacoes   \n",
       "4  otimo                                                                                                                                                                                                \n",
       "\n",
       "   Rating  Likes  Dislikes Platform                       Device  Size  \\\n",
       "0  2      NaN    NaN        Android  Galaxy J4+ (j4primelte)      12     \n",
       "1  4       9.0   NaN        Android  Galaxy Note9 (crownqltechn)  150    \n",
       "2  1      NaN    NaN        Android  LG K10 (2017) (mlv5)         23     \n",
       "3  1      NaN    NaN        Android  LG Q6 (mh)                   194    \n",
       "4  5      NaN    NaN        Android  LG Q6 (mh)                   5      \n",
       "\n",
       "   Cluster       Category  \n",
       "0  1        Instabilidade  \n",
       "1  1        Elogio         \n",
       "2  0        Instabilidade  \n",
       "3  2        Instabilidade  \n",
       "4  1        Elogio         "
      ]
     },
     "execution_count": 3,
     "metadata": {},
     "output_type": "execute_result"
    }
   ],
   "source": [
    "data = pandas.read_csv('refined')\n",
    "data.head(5)"
   ]
  },
  {
   "cell_type": "markdown",
   "metadata": {},
   "source": [
    "### Transf as palavras em vetor"
   ]
  },
  {
   "cell_type": "code",
   "execution_count": 19,
   "metadata": {},
   "outputs": [],
   "source": [
    "vectorizer = TfidfVectorizer()"
   ]
  },
  {
   "cell_type": "code",
   "execution_count": 21,
   "metadata": {},
   "outputs": [],
   "source": [
    "X = vectorizer.fit_transform(data.Review)"
   ]
  },
  {
   "cell_type": "code",
   "execution_count": 26,
   "metadata": {},
   "outputs": [
    {
     "data": {
      "text/plain": [
       "array([0., 0., 0., ..., 0., 0., 0.])"
      ]
     },
     "execution_count": 26,
     "metadata": {},
     "output_type": "execute_result"
    }
   ],
   "source": [
    "X.toarray()[0]"
   ]
  },
  {
   "cell_type": "markdown",
   "metadata": {},
   "source": [
    "### Transf o campo de classificação"
   ]
  },
  {
   "cell_type": "code",
   "execution_count": 5,
   "metadata": {},
   "outputs": [],
   "source": [
    "le = preprocessing.LabelEncoder()"
   ]
  },
  {
   "cell_type": "code",
   "execution_count": 12,
   "metadata": {},
   "outputs": [],
   "source": [
    "le = le.fit(data.Category)"
   ]
  },
  {
   "cell_type": "code",
   "execution_count": 13,
   "metadata": {},
   "outputs": [],
   "source": [
    "data['Label'] = le.transform(data.Category)"
   ]
  },
  {
   "cell_type": "code",
   "execution_count": 17,
   "metadata": {
    "scrolled": true
   },
   "outputs": [
    {
     "data": {
      "text/html": [
       "<div>\n",
       "<style scoped>\n",
       "    .dataframe tbody tr th:only-of-type {\n",
       "        vertical-align: middle;\n",
       "    }\n",
       "\n",
       "    .dataframe tbody tr th {\n",
       "        vertical-align: top;\n",
       "    }\n",
       "\n",
       "    .dataframe thead th {\n",
       "        text-align: right;\n",
       "    }\n",
       "</style>\n",
       "<table border=\"1\" class=\"dataframe\">\n",
       "  <thead>\n",
       "    <tr style=\"text-align: right;\">\n",
       "      <th></th>\n",
       "      <th>Author</th>\n",
       "      <th>Date</th>\n",
       "      <th>Review</th>\n",
       "      <th>Rating</th>\n",
       "      <th>Likes</th>\n",
       "      <th>Dislikes</th>\n",
       "      <th>Platform</th>\n",
       "      <th>Device</th>\n",
       "      <th>Size</th>\n",
       "      <th>Cluster</th>\n",
       "      <th>Category</th>\n",
       "      <th>Label</th>\n",
       "    </tr>\n",
       "  </thead>\n",
       "  <tbody>\n",
       "    <tr>\n",
       "      <th>0</th>\n",
       "      <td>Fábio F. de Oliveira</td>\n",
       "      <td>2019-06-20 18:06:37</td>\n",
       "      <td>nao funciona</td>\n",
       "      <td>2</td>\n",
       "      <td>NaN</td>\n",
       "      <td>NaN</td>\n",
       "      <td>Android</td>\n",
       "      <td>Galaxy J4+ (j4primelte)</td>\n",
       "      <td>12</td>\n",
       "      <td>1</td>\n",
       "      <td>Instabilidade</td>\n",
       "      <td>2</td>\n",
       "    </tr>\n",
       "    <tr>\n",
       "      <th>1</th>\n",
       "      <td>Davidson P Sena</td>\n",
       "      <td>2019-06-20 17:53:10</td>\n",
       "      <td>editei a nota pois voces corrigiram o erro que tinha no aplicativo  agora a unica coisa que esta incomodando ainda e a lentidao  no aguardo e obrigado</td>\n",
       "      <td>4</td>\n",
       "      <td>9.0</td>\n",
       "      <td>NaN</td>\n",
       "      <td>Android</td>\n",
       "      <td>Galaxy Note9 (crownqltechn)</td>\n",
       "      <td>150</td>\n",
       "      <td>1</td>\n",
       "      <td>Elogio</td>\n",
       "      <td>0</td>\n",
       "    </tr>\n",
       "    <tr>\n",
       "      <th>2</th>\n",
       "      <td>Jackeline Mos</td>\n",
       "      <td>2019-06-20 17:47:59</td>\n",
       "      <td>trava muito  nao gostei</td>\n",
       "      <td>1</td>\n",
       "      <td>NaN</td>\n",
       "      <td>NaN</td>\n",
       "      <td>Android</td>\n",
       "      <td>LG K10 (2017) (mlv5)</td>\n",
       "      <td>23</td>\n",
       "      <td>0</td>\n",
       "      <td>Instabilidade</td>\n",
       "      <td>2</td>\n",
       "    </tr>\n",
       "    <tr>\n",
       "      <th>3</th>\n",
       "      <td>Amanda Caroline</td>\n",
       "      <td>2019-06-20 17:46:49</td>\n",
       "      <td>nao consigo entrar  saiu da tela de faturas do nada e quando voltei pedia meu cpf pra ver se tinha cadastro  demora a carregar e quando carrega diz que nao conseguiram acessar minhas informacoes</td>\n",
       "      <td>1</td>\n",
       "      <td>NaN</td>\n",
       "      <td>NaN</td>\n",
       "      <td>Android</td>\n",
       "      <td>LG Q6 (mh)</td>\n",
       "      <td>194</td>\n",
       "      <td>2</td>\n",
       "      <td>Instabilidade</td>\n",
       "      <td>2</td>\n",
       "    </tr>\n",
       "    <tr>\n",
       "      <th>4</th>\n",
       "      <td>VIVEREMSALVADOR VIVER</td>\n",
       "      <td>2019-06-20 17:35:28</td>\n",
       "      <td>otimo</td>\n",
       "      <td>5</td>\n",
       "      <td>NaN</td>\n",
       "      <td>NaN</td>\n",
       "      <td>Android</td>\n",
       "      <td>LG Q6 (mh)</td>\n",
       "      <td>5</td>\n",
       "      <td>1</td>\n",
       "      <td>Elogio</td>\n",
       "      <td>0</td>\n",
       "    </tr>\n",
       "  </tbody>\n",
       "</table>\n",
       "</div>"
      ],
      "text/plain": [
       "                  Author                 Date  \\\n",
       "0  Fábio F. de Oliveira   2019-06-20 18:06:37   \n",
       "1  Davidson P Sena        2019-06-20 17:53:10   \n",
       "2  Jackeline Mos          2019-06-20 17:47:59   \n",
       "3  Amanda Caroline        2019-06-20 17:46:49   \n",
       "4  VIVEREMSALVADOR VIVER  2019-06-20 17:35:28   \n",
       "\n",
       "                                                                                                                                                                                               Review  \\\n",
       "0  nao funciona                                                                                                                                                                                         \n",
       "1  editei a nota pois voces corrigiram o erro que tinha no aplicativo  agora a unica coisa que esta incomodando ainda e a lentidao  no aguardo e obrigado                                               \n",
       "2  trava muito  nao gostei                                                                                                                                                                              \n",
       "3  nao consigo entrar  saiu da tela de faturas do nada e quando voltei pedia meu cpf pra ver se tinha cadastro  demora a carregar e quando carrega diz que nao conseguiram acessar minhas informacoes   \n",
       "4  otimo                                                                                                                                                                                                \n",
       "\n",
       "   Rating  Likes  Dislikes Platform                       Device  Size  \\\n",
       "0  2      NaN    NaN        Android  Galaxy J4+ (j4primelte)      12     \n",
       "1  4       9.0   NaN        Android  Galaxy Note9 (crownqltechn)  150    \n",
       "2  1      NaN    NaN        Android  LG K10 (2017) (mlv5)         23     \n",
       "3  1      NaN    NaN        Android  LG Q6 (mh)                   194    \n",
       "4  5      NaN    NaN        Android  LG Q6 (mh)                   5      \n",
       "\n",
       "   Cluster       Category  Label  \n",
       "0  1        Instabilidade  2      \n",
       "1  1        Elogio         0      \n",
       "2  0        Instabilidade  2      \n",
       "3  2        Instabilidade  2      \n",
       "4  1        Elogio         0      "
      ]
     },
     "execution_count": 17,
     "metadata": {},
     "output_type": "execute_result"
    }
   ],
   "source": [
    "data.head(5)"
   ]
  },
  {
   "cell_type": "markdown",
   "metadata": {},
   "source": [
    "### Treinando"
   ]
  },
  {
   "cell_type": "code",
   "execution_count": 29,
   "metadata": {},
   "outputs": [],
   "source": [
    "X_train, X_test, y_train, y_test = train_test_split(X, data.Label, test_size=0.2, random_state=42)"
   ]
  },
  {
   "cell_type": "code",
   "execution_count": 33,
   "metadata": {},
   "outputs": [
    {
     "data": {
      "text/plain": [
       "LogisticRegression(C=1.0, class_weight=None, dual=False, fit_intercept=True,\n",
       "          intercept_scaling=1, max_iter=100, multi_class='multinomial',\n",
       "          n_jobs=None, penalty='l2', random_state=0, solver='lbfgs',\n",
       "          tol=0.0001, verbose=0, warm_start=False)"
      ]
     },
     "execution_count": 33,
     "metadata": {},
     "output_type": "execute_result"
    }
   ],
   "source": [
    "clf = LogisticRegression(random_state=0, solver='lbfgs',multi_class='multinomial')\n",
    "clf"
   ]
  },
  {
   "cell_type": "code",
   "execution_count": 36,
   "metadata": {},
   "outputs": [],
   "source": [
    "model = clf.fit(X_train, y_train)\n",
    "y_pred = model.predict(X_test)"
   ]
  },
  {
   "cell_type": "code",
   "execution_count": 37,
   "metadata": {},
   "outputs": [
    {
     "data": {
      "text/plain": [
       "array([2, 2, 2, 2, 2, 2, 2, 2, 2, 2, 2, 1, 2, 2, 2, 2, 2, 2, 2, 2, 2, 2,\n",
       "       2, 2, 2, 2, 2, 2, 2, 2, 0, 2, 2, 1, 2, 1, 1, 2, 1, 0, 0, 2, 2, 1,\n",
       "       2, 2, 0, 2, 2, 2, 2, 2, 2, 2, 2, 1, 2, 1, 2, 2, 2, 2, 2, 2, 2, 2,\n",
       "       2, 2, 2, 0, 1, 2, 2, 2, 2, 2, 2, 2, 2, 2, 2, 1, 1, 2, 2, 2, 0, 1,\n",
       "       2, 0, 2, 2, 2, 2, 2, 2, 2, 0, 2, 1, 2, 0, 2, 2, 0, 2, 1, 2, 2, 2,\n",
       "       2, 2, 2, 1, 2, 2, 2, 2, 2, 2, 2, 2])"
      ]
     },
     "execution_count": 37,
     "metadata": {},
     "output_type": "execute_result"
    }
   ],
   "source": [
    "y_pred"
   ]
  },
  {
   "cell_type": "markdown",
   "metadata": {},
   "source": [
    "### Vendo a acuracia do modelo"
   ]
  },
  {
   "cell_type": "code",
   "execution_count": 38,
   "metadata": {},
   "outputs": [
    {
     "data": {
      "text/plain": [
       "0.7786885245901639"
      ]
     },
     "execution_count": 38,
     "metadata": {},
     "output_type": "execute_result"
    }
   ],
   "source": [
    "accuracy_score(y_test, y_pred)"
   ]
  },
  {
   "cell_type": "code",
   "execution_count": null,
   "metadata": {},
   "outputs": [],
   "source": []
  }
 ],
 "metadata": {
  "kernelspec": {
   "display_name": "Python 3",
   "language": "python",
   "name": "python3"
  },
  "language_info": {
   "codemirror_mode": {
    "name": "ipython",
    "version": 3
   },
   "file_extension": ".py",
   "mimetype": "text/x-python",
   "name": "python",
   "nbconvert_exporter": "python",
   "pygments_lexer": "ipython3",
   "version": "3.7.1"
  }
 },
 "nbformat": 4,
 "nbformat_minor": 2
}
