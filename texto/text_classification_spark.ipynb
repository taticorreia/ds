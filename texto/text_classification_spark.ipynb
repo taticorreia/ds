{
 "cells": [
  {
   "cell_type": "code",
   "execution_count": 1,
   "metadata": {},
   "outputs": [],
   "source": [
    "from pyspark.sql import SparkSession\n",
    "from pyspark.sql.functions import col, when\n",
    "from pyspark.sql import SparkSession, SQLContext, Row\n",
    "from pyspark.ml.feature import RegexTokenizer, StopWordsRemover, HashingTF, IDF\n",
    "from pyspark.ml.classification import LogisticRegression\n",
    "from pyspark.ml import Pipeline\n",
    "\n",
    "from pyspark.ml.evaluation import MulticlassClassificationEvaluator #BinaryClassificationEvaluator\n",
    "\n",
    "import numpy as np\n",
    "import pandas as pd"
   ]
  },
  {
   "cell_type": "code",
   "execution_count": 2,
   "metadata": {},
   "outputs": [
    {
     "name": "stdout",
     "output_type": "stream",
     "text": [
      "+--------------------+--------------+\n",
      "|              Review|      Category|\n",
      "+--------------------+--------------+\n",
      "|        nao funciona| Instabilidade|\n",
      "|editei a nota poi...|        Elogio|\n",
      "|trava muito  nao ...| Instabilidade|\n",
      "|nao consigo entra...| Instabilidade|\n",
      "|               otimo|        Elogio|\n",
      "|atualizou o app a...| Instabilidade|\n",
      "|depois dessa atua...| Instabilidade|\n",
      "|o aplicativo trav...| Instabilidade|\n",
      "|login fica carreg...| Instabilidade|\n",
      "|nao consigo fazer...| Instabilidade|\n",
      "|nao consigo abrir...| Instabilidade|\n",
      "|nao e mais possiv...|Funcionalidade|\n",
      "|nao funciona nao ...| Instabilidade|\n",
      "|horrivel  toda ve...| Instabilidade|\n",
      "|atualizacao ficou...| Instabilidade|\n",
      "|depois da ultima ...| Instabilidade|\n",
      "|o app esta com ba...| Instabilidade|\n",
      "|nao dar para muda...| Instabilidade|\n",
      "|depois da ultima ...| Instabilidade|\n",
      "|parabens net  mai...| Instabilidade|\n",
      "+--------------------+--------------+\n",
      "only showing top 20 rows\n",
      "\n"
     ]
    }
   ],
   "source": [
    "spark = SparkSession.builder.appName(\"dataset\").getOrCreate()\n",
    "data = spark.read.csv(\"refined\", header=True).cache()\n",
    "dataset = data.select(data.Review, data.Category).cache()\n",
    "dataset.show()\n"
   ]
  },
  {
   "cell_type": "code",
   "execution_count": 3,
   "metadata": {},
   "outputs": [
    {
     "name": "stdout",
     "output_type": "stream",
     "text": [
      "+--------------+-----+--------------------+\n",
      "|      Category|label|              Review|\n",
      "+--------------+-----+--------------------+\n",
      "| Instabilidade|    0|        nao funciona|\n",
      "|        Elogio|    1|editei a nota poi...|\n",
      "| Instabilidade|    0|trava muito  nao ...|\n",
      "| Instabilidade|    0|nao consigo entra...|\n",
      "|        Elogio|    1|               otimo|\n",
      "| Instabilidade|    0|atualizou o app a...|\n",
      "| Instabilidade|    0|depois dessa atua...|\n",
      "| Instabilidade|    0|o aplicativo trav...|\n",
      "| Instabilidade|    0|login fica carreg...|\n",
      "| Instabilidade|    0|nao consigo fazer...|\n",
      "| Instabilidade|    0|nao consigo abrir...|\n",
      "|Funcionalidade|    2|nao e mais possiv...|\n",
      "| Instabilidade|    0|nao funciona nao ...|\n",
      "| Instabilidade|    0|horrivel  toda ve...|\n",
      "| Instabilidade|    0|atualizacao ficou...|\n",
      "| Instabilidade|    0|depois da ultima ...|\n",
      "| Instabilidade|    0|o app esta com ba...|\n",
      "| Instabilidade|    0|nao dar para muda...|\n",
      "| Instabilidade|    0|depois da ultima ...|\n",
      "| Instabilidade|    0|parabens net  mai...|\n",
      "+--------------+-----+--------------------+\n",
      "only showing top 20 rows\n",
      "\n"
     ]
    }
   ],
   "source": [
    "from pyspark.sql.functions import udf\n",
    "from pyspark.sql.types import *\n",
    "\n",
    "def valueToCategory(value):\n",
    "    if value == 'Instabilidade':\n",
    "        return 0\n",
    "\n",
    "    elif value == 'Elogio':\n",
    "        return 1\n",
    "\n",
    "    elif value == 'Funcionalidade':\n",
    "        return 2\n",
    "\n",
    "# NOTE: it seems that calls to udf() must be after SparkContext() is called\n",
    "#udfValueToCategory = udf(valueToCategory, StringType())\n",
    "#dataset_novo = dataset.withColumn(\"label\", udfValueToCategory(\"Category\"))\n",
    "#dataset = dataset.select(df.Review, df.label).cache() ## Removendo o campo category\n",
    "#dataset_novo.show()\n",
    "\n",
    "from pyspark.sql.types import IntegerType\n",
    "\n",
    "dataset_novo = udf(lambda z: valueToCategory(z), IntegerType())\n",
    "dataset_e = dataset.select('Category',dataset_novo('Category').alias('label'),'Review')\n",
    "dataset_e.show()"
   ]
  },
  {
   "cell_type": "code",
   "execution_count": null,
   "metadata": {},
   "outputs": [],
   "source": []
  },
  {
   "cell_type": "code",
   "execution_count": 4,
   "metadata": {},
   "outputs": [
    {
     "data": {
      "text/plain": [
       "StructType(List(StructField(Category,StringType,true),StructField(label,IntegerType,true),StructField(Review,StringType,true)))"
      ]
     },
     "execution_count": 4,
     "metadata": {},
     "output_type": "execute_result"
    }
   ],
   "source": [
    "dataset_e.schema"
   ]
  },
  {
   "cell_type": "markdown",
   "metadata": {},
   "source": [
    "### Vetorizando"
   ]
  },
  {
   "cell_type": "code",
   "execution_count": 5,
   "metadata": {},
   "outputs": [],
   "source": [
    "regex_tokenizer = RegexTokenizer(inputCol=\"Review\", outputCol=\"words\", pattern=\"\\\\W\")\n",
    "tokenized = regex_tokenizer.transform(dataset_e)"
   ]
  },
  {
   "cell_type": "code",
   "execution_count": 6,
   "metadata": {},
   "outputs": [
    {
     "name": "stdout",
     "output_type": "stream",
     "text": [
      "+--------------+-----+--------------------+--------------------+\n",
      "|      Category|label|              Review|               words|\n",
      "+--------------+-----+--------------------+--------------------+\n",
      "| Instabilidade|    0|        nao funciona|     [nao, funciona]|\n",
      "|        Elogio|    1|editei a nota poi...|[editei, a, nota,...|\n",
      "| Instabilidade|    0|trava muito  nao ...|[trava, muito, na...|\n",
      "| Instabilidade|    0|nao consigo entra...|[nao, consigo, en...|\n",
      "|        Elogio|    1|               otimo|             [otimo]|\n",
      "| Instabilidade|    0|atualizou o app a...|[atualizou, o, ap...|\n",
      "| Instabilidade|    0|depois dessa atua...|[depois, dessa, a...|\n",
      "| Instabilidade|    0|o aplicativo trav...|[o, aplicativo, t...|\n",
      "| Instabilidade|    0|login fica carreg...|[login, fica, car...|\n",
      "| Instabilidade|    0|nao consigo fazer...|[nao, consigo, fa...|\n",
      "| Instabilidade|    0|nao consigo abrir...|[nao, consigo, ab...|\n",
      "|Funcionalidade|    2|nao e mais possiv...|[nao, e, mais, po...|\n",
      "| Instabilidade|    0|nao funciona nao ...|[nao, funciona, n...|\n",
      "| Instabilidade|    0|horrivel  toda ve...|[horrivel, toda, ...|\n",
      "| Instabilidade|    0|atualizacao ficou...|[atualizacao, fic...|\n",
      "| Instabilidade|    0|depois da ultima ...|[depois, da, ulti...|\n",
      "| Instabilidade|    0|o app esta com ba...|[o, app, esta, co...|\n",
      "| Instabilidade|    0|nao dar para muda...|[nao, dar, para, ...|\n",
      "| Instabilidade|    0|depois da ultima ...|[depois, da, ulti...|\n",
      "| Instabilidade|    0|parabens net  mai...|[parabens, net, m...|\n",
      "+--------------+-----+--------------------+--------------------+\n",
      "only showing top 20 rows\n",
      "\n"
     ]
    }
   ],
   "source": [
    "tokenized.show()"
   ]
  },
  {
   "cell_type": "code",
   "execution_count": 7,
   "metadata": {},
   "outputs": [],
   "source": [
    "stop_words = [\"to\",\"of\",\"it\",\"I\",\"the\",\"is\", \"up\", \"has\", \"for\", \"have\", \"yet\", \"I've\", \"a\", \"as\", \"this\"]\n",
    "words_remover = StopWordsRemover(inputCol=\"words\", outputCol=\"filtered\").setStopWords(stop_words)\n",
    "removed = words_remover.transform(tokenized)"
   ]
  },
  {
   "cell_type": "code",
   "execution_count": 8,
   "metadata": {},
   "outputs": [
    {
     "name": "stdout",
     "output_type": "stream",
     "text": [
      "+-------------+-----+--------------------+--------------------+--------------------+\n",
      "|     Category|label|              Review|               words|            filtered|\n",
      "+-------------+-----+--------------------+--------------------+--------------------+\n",
      "|Instabilidade|    0|        nao funciona|     [nao, funciona]|     [nao, funciona]|\n",
      "|       Elogio|    1|editei a nota poi...|[editei, a, nota,...|[editei, nota, po...|\n",
      "|Instabilidade|    0|trava muito  nao ...|[trava, muito, na...|[trava, muito, na...|\n",
      "|Instabilidade|    0|nao consigo entra...|[nao, consigo, en...|[nao, consigo, en...|\n",
      "|       Elogio|    1|               otimo|             [otimo]|             [otimo]|\n",
      "+-------------+-----+--------------------+--------------------+--------------------+\n",
      "only showing top 5 rows\n",
      "\n"
     ]
    }
   ],
   "source": [
    "removed.show(5)"
   ]
  },
  {
   "cell_type": "code",
   "execution_count": 9,
   "metadata": {},
   "outputs": [],
   "source": [
    "hashing_tf = HashingTF(inputCol=\"filtered\", outputCol=\"rawFeatures\", numFeatures=10000)\n",
    "idf = IDF(inputCol=\"rawFeatures\", outputCol=\"features\", minDocFreq=5)\n",
    "\n",
    "pipeline = Pipeline(stages=[regex_tokenizer, words_remover, hashing_tf, idf])"
   ]
  },
  {
   "cell_type": "code",
   "execution_count": 10,
   "metadata": {},
   "outputs": [],
   "source": [
    "pipeline_model = pipeline.fit(dataset_e)\n",
    "data_text = pipeline_model.transform(dataset_e) "
   ]
  },
  {
   "cell_type": "code",
   "execution_count": 11,
   "metadata": {},
   "outputs": [
    {
     "name": "stdout",
     "output_type": "stream",
     "text": [
      "+-------------+-----+------------+---------------+---------------+--------------------+--------------------+\n",
      "|     Category|label|      Review|          words|       filtered|         rawFeatures|            features|\n",
      "+-------------+-----+------------+---------------+---------------+--------------------+--------------------+\n",
      "|Instabilidade|    0|nao funciona|[nao, funciona]|[nao, funciona]|(10000,[787,4980]...|(10000,[787,4980]...|\n",
      "+-------------+-----+------------+---------------+---------------+--------------------+--------------------+\n",
      "only showing top 1 row\n",
      "\n"
     ]
    }
   ],
   "source": [
    "data_text.show(1)"
   ]
  },
  {
   "cell_type": "code",
   "execution_count": 12,
   "metadata": {},
   "outputs": [],
   "source": [
    "(train, test) = data_text.randomSplit([0.7, 0.3], seed=10)"
   ]
  },
  {
   "cell_type": "code",
   "execution_count": 13,
   "metadata": {},
   "outputs": [],
   "source": [
    "classifier = LogisticRegression(maxIter=20, regParam=0.3, elasticNetParam=0, family=\"multinomial\")#era binomial\n",
    "model = classifier.fit(train)"
   ]
  },
  {
   "cell_type": "code",
   "execution_count": 14,
   "metadata": {},
   "outputs": [
    {
     "name": "stdout",
     "output_type": "stream",
     "text": [
      "+-----+----------+\n",
      "|label|prediction|\n",
      "+-----+----------+\n",
      "|    1|       0.0|\n",
      "|    1|       1.0|\n",
      "|    1|       0.0|\n",
      "|    1|       0.0|\n",
      "|    1|       1.0|\n",
      "|    1|       0.0|\n",
      "|    1|       0.0|\n",
      "|    1|       1.0|\n",
      "|    1|       1.0|\n",
      "|    1|       1.0|\n",
      "|    1|       0.0|\n",
      "|    1|       0.0|\n",
      "|    1|       0.0|\n",
      "|    1|       0.0|\n",
      "|    1|       1.0|\n",
      "|    1|       1.0|\n",
      "|    1|       0.0|\n",
      "|    1|       0.0|\n",
      "|    1|       1.0|\n",
      "|    1|       1.0|\n",
      "+-----+----------+\n",
      "only showing top 20 rows\n",
      "\n"
     ]
    }
   ],
   "source": [
    "predictions = model.transform(test)\n",
    "predictions.select(predictions.label, predictions.prediction).show(20)"
   ]
  },
  {
   "cell_type": "code",
   "execution_count": 15,
   "metadata": {},
   "outputs": [
    {
     "data": {
      "text/plain": [
       "0.8207774308172714"
      ]
     },
     "execution_count": 15,
     "metadata": {},
     "output_type": "execute_result"
    }
   ],
   "source": [
    "evaluator = MulticlassClassificationEvaluator(predictionCol='prediction')#BinaryClassificationEvaluator(rawPredictionCol=\"prediction\")\n",
    "evaluator.evaluate(predictions)"
   ]
  },
  {
   "cell_type": "code",
   "execution_count": 16,
   "metadata": {},
   "outputs": [
    {
     "data": {
      "text/html": [
       "<div>\n",
       "<style scoped>\n",
       "    .dataframe tbody tr th:only-of-type {\n",
       "        vertical-align: middle;\n",
       "    }\n",
       "\n",
       "    .dataframe tbody tr th {\n",
       "        vertical-align: top;\n",
       "    }\n",
       "\n",
       "    .dataframe thead th {\n",
       "        text-align: right;\n",
       "    }\n",
       "</style>\n",
       "<table border=\"1\" class=\"dataframe\">\n",
       "  <thead>\n",
       "    <tr style=\"text-align: right;\">\n",
       "      <th>col_0</th>\n",
       "      <th>0.0</th>\n",
       "      <th>1.0</th>\n",
       "      <th>2.0</th>\n",
       "    </tr>\n",
       "    <tr>\n",
       "      <th>row_0</th>\n",
       "      <th></th>\n",
       "      <th></th>\n",
       "      <th></th>\n",
       "    </tr>\n",
       "  </thead>\n",
       "  <tbody>\n",
       "    <tr>\n",
       "      <th>0.0</th>\n",
       "      <td>110</td>\n",
       "      <td>1</td>\n",
       "      <td>2</td>\n",
       "    </tr>\n",
       "    <tr>\n",
       "      <th>1.0</th>\n",
       "      <td>14</td>\n",
       "      <td>12</td>\n",
       "      <td>0</td>\n",
       "    </tr>\n",
       "    <tr>\n",
       "      <th>2.0</th>\n",
       "      <td>14</td>\n",
       "      <td>0</td>\n",
       "      <td>32</td>\n",
       "    </tr>\n",
       "  </tbody>\n",
       "</table>\n",
       "</div>"
      ],
      "text/plain": [
       "col_0  0.0  1.0  2.0\n",
       "row_0               \n",
       "0.0    110    1    2\n",
       "1.0     14   12    0\n",
       "2.0     14    0   32"
      ]
     },
     "execution_count": 16,
     "metadata": {},
     "output_type": "execute_result"
    }
   ],
   "source": [
    "vector = np.array(predictions.select(\"label\", \"prediction\").collect())\n",
    "pd.crosstab(vector[:,0], vector[:,1])"
   ]
  },
  {
   "cell_type": "code",
   "execution_count": null,
   "metadata": {},
   "outputs": [],
   "source": []
  },
  {
   "cell_type": "code",
   "execution_count": null,
   "metadata": {},
   "outputs": [],
   "source": []
  }
 ],
 "metadata": {
  "kernelspec": {
   "display_name": "Python 3",
   "language": "python",
   "name": "python3"
  },
  "language_info": {
   "codemirror_mode": {
    "name": "ipython",
    "version": 3
   },
   "file_extension": ".py",
   "mimetype": "text/x-python",
   "name": "python",
   "nbconvert_exporter": "python",
   "pygments_lexer": "ipython3",
   "version": "3.7.1"
  }
 },
 "nbformat": 4,
 "nbformat_minor": 2
}
