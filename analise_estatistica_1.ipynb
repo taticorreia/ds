{
 "cells": [
  {
   "cell_type": "markdown",
   "metadata": {},
   "source": [
    "### Capítulo 1"
   ]
  },
  {
   "cell_type": "markdown",
   "metadata": {},
   "source": [
    "- Plataformas de análise usadas no curso:\n",
    " * Seria ultilizada a R e SAS, porém apenas irei trabalhar com python\n",
    "- Resolver o seguinte Exercício:\n",
    "\n",
    "<pre>\n",
    "<strong>1-</strong>Defina seu diretório de trabalho, onde estará o arquivo.\n",
    "<strong>2-</strong>Carregue o dataset na área de trabalho de ambos os softwares.\n",
    "<strong>3-</strong>Calcule a média, mediana e moda do dataset.\n",
    "<strong>4-</strong>Calcule a temperatura (coluna temp)médiapor dia da semana (coluna weekday).\n",
    "<strong>5-</strong>Crie um histograma na coluna temp.\n",
    "</pre>\n",
    "\n",
    "[Resolução do Exercicio](resolucao_cap1.ipynb)"
   ]
  },
  {
   "cell_type": "markdown",
   "metadata": {},
   "source": [
    "### Capítulo 2"
   ]
  },
  {
   "cell_type": "markdown",
   "metadata": {},
   "source": [
    "- Apenas introdução á SAS e R"
   ]
  },
  {
   "cell_type": "markdown",
   "metadata": {},
   "source": [
    "### Capítulo 3"
   ]
  },
  {
   "cell_type": "markdown",
   "metadata": {},
   "source": [
    "#### Visualizando e descrevendo dados categóricos"
   ]
  },
  {
   "cell_type": "markdown",
   "metadata": {},
   "source": [
    "- Regras da Analise de dados:\n",
    "<pre>\n",
    "<strong> 1 - Crie um gráfico:</strong>\n",
    "    Pois facilita a visualizaçã dos dados, sua organização, a partir dai se aplica as técnicas de analise exploratória.\n",
    "    Criar gráficos ajuda a iniciar o processo de análise.\n",
    "</pre>"
   ]
  },
  {
   "cell_type": "markdown",
   "metadata": {},
   "source": [
    "- Váriaveis Categóricas ou qualitativas\n",
    "\n",
    "<pre>\n",
    "<strong> Qualitativas:</strong>\n",
    "    Ultiliza termos descritivos para descrever algo de interesse, Ex: Cor dos olhos, religião.\n",
    "    Se dividem em duas:\n",
    "    - Qualitativas Nominais: Não há ordem natural,Ex: Profissão, Sexo.\n",
    "    - Qualitativas Ordinal: Possuem ordem natural,Ex: Escolardade, classe social.\n",
    "    \n",
    "</pre>"
   ]
  },
  {
   "cell_type": "markdown",
   "metadata": {},
   "source": [
    "<pre>\n",
    "Frequencia absoluta(fi) : É o total de ocorrências\n",
    "Frequência relativa(fr): É a frequencia que algo ocorre.\n",
    "</pre>"
   ]
  },
  {
   "cell_type": "markdown",
   "metadata": {},
   "source": [
    "* Gráficos para Variávels Qualitativas\n",
    "\n",
    "    Começamos definindo o problema de negócio a ser resolvido.A simplicidade e objetividade são essênciais para a formulação do gráfico\n",
    "    Os gráficos ultilizados são:\n",
    "    - Gráficos de Barra.\n",
    "    - Gráfico de Pizza"
   ]
  },
  {
   "cell_type": "markdown",
   "metadata": {},
   "source": [
    "* Tabela de Contigência\n",
    "Objetivo é mostrar a relação dos tipos de registro e sua quantidade.\n"
   ]
  },
  {
   "cell_type": "markdown",
   "metadata": {},
   "source": [
    "* Os campos categóricos podem ser de dois tipos:\n",
    "    - Nominal\n",
    "    - Ordinal\n",
    "\n",
    "Exemplo de nominal:\n",
    "    - Gênero (masculino / feminino)\n",
    "    - Raça / Cor (branco, preto, amarelo, etc)\n",
    "Todo campo categórico do tipo nominal deve ser representado com one hot, isso porque não existe ordem de precedência ou seja, sequencia\n",
    "\n",
    "Campos categóricos ordinais:\n",
    "    - Formação (Fundamental, Médio, Superior)\n",
    "    - Nível de Especialidade (Junior, Pleno, Sênior)\n",
    "\n",
    "Esse tem uma sequencia, e pode ser representado por números 1, 2, 3, 4 e etc\n",
    "Correlação só é possível entre variável contínua. Variável categória analisamos de outro jeito."
   ]
  },
  {
   "cell_type": "markdown",
   "metadata": {},
   "source": [
    "- Análise de Correlação\n",
    "    * Duas variáveis contínuas - Correlação\n",
    "    * Uma variável categórica e uma contínua: Variância Interna \n",
    "    * Duas variáveis categóricas (Chi Square da Tabela de Contingência. P-Valor menor 0.05 indica correlação)"
   ]
  },
  {
   "cell_type": "markdown",
   "metadata": {},
   "source": [
    "* Descrevendo dados categóricos e interpretando resultados\n",
    "    - Faça uma figura\n",
    "    - Faça uma tabela de frequência - Olhar a relação entre as variáveis.\n",
    "    - Faça uma tabela de contigência\n",
    "    - Verificar se há indepência entre as variáveis\n",
    "    - Verificar a associação entre as variáveis por meio do qui-quadrado"
   ]
  },
  {
   "cell_type": "markdown",
   "metadata": {},
   "source": [
    "#### Estudo de Caso Nº 1 \n",
    "    - Análise de dados em operadoras de cartão de crédito\n",
    "    \n",
    "[Estudo de caso](estudo_caso_1.ipynb)"
   ]
  },
  {
   "cell_type": "markdown",
   "metadata": {},
   "source": [
    "- Resolver o seguinte Exercício:\n",
    "\n",
    "<pre>\n",
    "<strong>1-</strong>Quais as 3 cores dos veículos mais vendidos?\n",
    "<strong>2-</strong>De qual ano são os veículos mais vendidos?\n",
    "<strong>3-</strong>Crie um barplot para apresentar sua resposta no item 2.\n",
    "<strong>4-</strong>Qual o percentual de vendas de veículos com transmissão automática?\n",
    "<strong>5-</strong>Crie um Pie Chart para representar sua resposta no item 4.\n",
    "<strong>6-</strong>Qual o percentual de venda de veículos por modelo?\n",
    "<strong>7-</strong>Calcule o percentual de vendas por preço de veículo e o percentual acumulado.\n",
    "<strong>8-</strong>Liste o total de veículos vendidos por ano e por tipo de transmissão(Dica: uma tabela de contingência faz isso para você com um comando).\n",
    "<strong>9-</strong>Imprima um resumo estatístico com o teste do qui-quadrado, graus de liberdade e valor p do resultado do item anterior.\n",
    "<strong>10-</strong>Crie um barplot a partir do resultado do item 8.As soluções serão apresentadas no próximo capítulo.\n",
    "</pre>\n",
    "\n",
    "[Resolução do Exercicio](resolucao_cap2.ipynb)"
   ]
  },
  {
   "cell_type": "markdown",
   "metadata": {},
   "source": [
    "### Capítulo 4"
   ]
  },
  {
   "cell_type": "markdown",
   "metadata": {},
   "source": [
    "- Váriavel Quantitiva\n",
    "    \n",
    "    - Discretas\n",
    "        Caracteristicas mensuraveis, apenas valores inteiros, ex: numero de carros\n",
    "    - Contínuas\n",
    "        Caracteristicas mensuraveis, com valores fracionais, ex: peso, tempo.\n",
    "        \n",
    "        \n",
    "- Medidas de Tendência Central\n",
    "    São valores que representam todo o conjunto, as mais comuns são média aritmética,média, moda e etc...\n",
    "    * Média - É uma das medidas mais ultilizadas em análises, determinada pelo somatório dos numeros divididos pela quantidade de números, tem que ser analisadas juntas com medidas de dispersão.\n",
    "    * Mediana - É o valor central de um conjunto quando organizado em ordem crescente ou decrescente,  4<5<7<8<9 a media será 7. agora se o conjunto for 2<4<5<7<8<9 temos dois termos no meio, tira-se a media entre 5,7 = 5+7/2=6\n",
    "    * Moda - É a tendência que um número aparece em um determinado conjunto.Ex: 5,4,1,2,1 a moda será 1. Quando o conjunto não aparece com moda o nome dele será amodal, caso tenha duas modas: bimodal.\n",
    "    * Média ponderada - Atribui pesos para os valores das médias\n",
    "\n",
    "- Medias de Dispersão\n",
    "    Existem medidas responsáveis por ilustrar o grau de variação entre as info de um conjunto, Ex: Amplitude, desvio, variância e desvio padrão.\n",
    "    O quão distante está cada dado perante a média obtida.\n",
    "    * Amplitude - É a diferença entre a maior e menor informação. \n",
    "    * Desvio - O quão distante está cada dado perante a média obtida, é calculado para cada elemento.\n",
    "    * \n",
    "    * Desvio de padrão - Quanto menor for o desvio padrão, mostra que os dados estão mais próximos da média.\n",
    "    \n",
    "- Medias de Posição Relativa\n",
    "    Há análises em que o foco será na posição do elemento do conjunto, através de medidas que interpretam essas posições, as separatrizes mais ultilizadas são: Quartis e Percentis\n",
    "    * Quartis - São valores que dividem os dados em 4 partes, contendo 25% dos elementos, esses quartis ficam sendoQ1,q2. \n",
    "    * Percentis - Divide a amostra em 100% iguais, Ex: P10 indica que 10% dos dados estão a esquerda e 90% a direita.\n",
    "- Gráficos para variáveis Qualitativas\n",
    "    * Histograma, de linha, \n"
   ]
  },
  {
   "cell_type": "markdown",
   "metadata": {},
   "source": [
    "- Outliers\n",
    "Outlier é um ponto fora da curva, vamos imaginar a situação onde você tem muitos pontos, estes pontos estão correlacionados\n",
    "\n"
   ]
  },
  {
   "cell_type": "markdown",
   "metadata": {},
   "source": [
    " Como os pontos verdes, que mandei na figura,quando você calcula um regressão considerando só os pontos verdes, sua regressão fica boa, mas se vc considerar aquele ponto vermelho, pode atrapalhar o processo de treinamento.\n",
    " Então, normalmente o outlier é removido para não atrapalhar a regressão\n",
    "Como ele é um ponto fora da curva\n",
    "\n",
    "\n",
    "[Resolução do Exercicio](resolucao_cap3.ipynb)"
   ]
  },
  {
   "cell_type": "markdown",
   "metadata": {},
   "source": [
    "### Capítulo 5"
   ]
  },
  {
   "cell_type": "markdown",
   "metadata": {},
   "source": [
    "#### Associações e Correlações"
   ]
  },
  {
   "cell_type": "markdown",
   "metadata": {},
   "source": [
    "<pre>- Análise Bidimensional\n",
    "    É estudar o comportamento de uma variavel em relação a outra variavel(como elas se comportam em conjunto).\n",
    "    Pode-se ter três situações:\n",
    "        - As duas variáveis são qualitativas\n",
    "        - As duas são quantitativas.\n",
    "        - Uma varíavel é quantitativa e a outra qualitativa.\n",
    "- Associação entre variáveis Qualitativas\n",
    "    - Distribuição conjunta: é a soma do total de ocorrencias(Ex: Quantidade total de carros de um determinado modelo)\n",
    "    - Distribuição marginal: é a quantidade de dados relacionando duas variaveis.(Ex: Quantidade de carro pertentente a um Modelo com uma cor) \n",
    "    A melhor forma para visualizar esses dados é usar a tabela de frequencia relativa(onde mostra a porcentagem dos dados em relação ao todo), ou usar gráficos em barras\n",
    "    \n",
    "- Medidas de Associação entre Variáveis Qualitativas:\n",
    "    O grau de associação é chamado de coeficiente de associação ou correlação, há uma forma de calculo para var quali. e quanti. Para a correlação de var qualit. se usa o Chi Quadrado.\n",
    "    O coeficiente varia entre 0 e 1, onde quanto mais proximo a 0, menos correlação há.\n",
    "    O calculo é feito através da subtração dos dados observados com os dados esperados. Se aplica a fórmula nesses dados : \n",
    "    Colocar a formula aqui ( (o-e)²/e )\n",
    "    Após aplicar a forma, soma-se os resultados e tira a raiz quadrada.\n",
    "    Essa fórmula calcula o desvio, tornando possível a melhor visualização dos campos de dados que extrapolaram a espectativa.\n",
    "    \n",
    "- Associação entre variaveis quantitativas:\n",
    "    \n",
    "    Pode se usar as tabelas de contigencia, os histogramas também ajudam. Também se usam gráficos de dispersão(Scatter Plot).Há diversos tipos de associções, a mais simples é a linear: Quanto mais a nuvem de pontos se aproxima da reta, processo que se dá a predição. \n",
    "    Há associação linear positiva, negativa, são as posições que os pontos aparecem na reta.\n",
    "    \n",
    "- Medidas de Associação  entre váriaveis quantitativas:\n",
    "    O coeficiente de correlação linear entre duas variaveis é a medida do grau de associação entre elas e também da proximidade dos dados a uma reta.\n",
    "    Antes do calculo deve-se tratar os dados, pois os desvios pode ser muito maior em uma variavel do que em outra, ex: ajustando a escala dos dados.\n",
    "\n",
    "- Associação entre variáveies qualitativas e quantitativas\n",
    "    A anpalise dessas duas variaveis juntas é feita pr meio de histogramas ou box-plot.\n",
    "    Se observa o quanto a variancia va var qualitativa muda quando é relacionada com uma var quantitativa.\n",
    "\n",
    "- Análise e interpretação de Scatter plots\n",
    "    Há 4 aspectos a se observar em gráficos de dispersão:\n",
    "    - Direção: Se a nuvem é positiva, negativa, caso não tinha direção(não há correlação entre as variaveis).\n",
    "    - Forma: A forma que os pontos estão proximas ou não.\n",
    "    - Força: A media que os dados estão mais proximos as retas, quanto mais proximo mais forte é a relação.\n",
    "    - Caracteristicas não usuais: Como outliers, pontos muito fora do padrão.\n",
    "\n",
    "- Atribuindo funções as variáveis no scatter plot\n",
    "    Var no eixo x = Preditora\n",
    "    Var no eixo y = Dependente(resposta,predita)\n",
    "    a predita depende da preditora,\n",
    "    \n",
    "- Compreendendo o que é correlação\n",
    "    Mede a força e direção entre duas variaveis, r é o valor que indca essa relação, e ele varia entre -1,0 e 1.\n",
    "\n",
    "- Condiçõespara Análise da Correlação.\n",
    "    Antes de usar correlação deve ser verificado três condições:\n",
    "    1 - Var Quantitativa\n",
    "    2 - Linearidade : Pode calcular para qualquer par de variaveis,ela mede apenas se a força for linear.\n",
    "    3 - Outiliers: Relatar os dois cenários, com e sem os outiliers. \n",
    "    \n",
    "- Correlação e Causalidade\n",
    "    Para analisar relação de causalidade, é necessário investigação adicional em função de diferentes cenários que podem ocorrer:\n",
    "    1. (A) causa realmente (B);\n",
    "    2. (B) pode ser a causa de (A);\n",
    "    3. Um terceiro fator (C) pode ser causa tanto de (A) como de (B);\n",
    "    4. Pode ser uma combinação das três situações anteriores: (A) causa (B) e ao mesmo tempo (B) causa também (A);\n",
    "    5. A correlação pode ser apenas uma coincidência, ou seja, os dois eventos não têm qualquer relação  para  além  do  fato  de  ocorrerem  ao  mesmo  tempo.  \n",
    "    Então como se determina a causalidade?\n",
    "    Depende sobretudo da complexidade do problema, mas a verdade é que a causalidade dificilmente poderá ser determinada com certeza absoluta\n",
    "    \n",
    "</pre>\n",
    "\n",
    "- [Resolução do Exercicio - Lista 4](lista4.ipynb) \n",
    "- [Mini-Projeto (Reviews da Amazon](amazon.ipynb)"
   ]
  },
  {
   "cell_type": "code",
   "execution_count": null,
   "metadata": {},
   "outputs": [],
   "source": []
  }
 ],
 "metadata": {
  "kernelspec": {
   "display_name": "Python 3",
   "language": "python",
   "name": "python3"
  },
  "language_info": {
   "codemirror_mode": {
    "name": "ipython",
    "version": 3
   },
   "file_extension": ".py",
   "mimetype": "text/x-python",
   "name": "python",
   "nbconvert_exporter": "python",
   "pygments_lexer": "ipython3",
   "version": "3.7.1"
  }
 },
 "nbformat": 4,
 "nbformat_minor": 2
}
